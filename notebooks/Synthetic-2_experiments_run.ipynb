{
 "cells": [
  {
   "cell_type": "markdown",
   "id": "ab8eeaa2",
   "metadata": {},
   "source": [
    "# Run experiments `application_Synthetic_2.ipynb`"
   ]
  },
  {
   "cell_type": "markdown",
   "id": "f262ba24-6c30-4062-a44c-b2c442ece08d",
   "metadata": {},
   "source": [
    "## Librairies"
   ]
  },
  {
   "cell_type": "code",
   "execution_count": 1,
   "id": "e8c78a2e",
   "metadata": {},
   "outputs": [],
   "source": [
    "import numpy as np\n",
    "from tqdm.notebook import tqdm\n",
    "import papermill as pm\n",
    "from itertools import product"
   ]
  },
  {
   "cell_type": "markdown",
   "id": "750abc33-a0da-4912-b3e6-0c97f5aab3f8",
   "metadata": {},
   "source": [
    "## Run experiments"
   ]
  },
  {
   "cell_type": "code",
   "execution_count": 2,
   "id": "048236b0",
   "metadata": {},
   "outputs": [],
   "source": [
    "input_notebook = \"Synthetic-2_experiments.ipynb\"\n",
    "output_directory = \"../results/Synthetic\""
   ]
  },
  {
   "cell_type": "code",
   "execution_count": 3,
   "id": "c6f4901d",
   "metadata": {},
   "outputs": [],
   "source": [
    "p_values = [1000, 2000, 3000, 4000]\n",
    "n__values =  [10] # not the real n's (which are computed in the notebook)!\n",
    "percent_relevent_values = [5, 4.6, 4.34, 4.25]\n",
    "percent_values = [1.25, 2.5, 3.75, 5.0]"
   ]
  },
  {
   "cell_type": "code",
   "execution_count": 4,
   "id": "00da24fb",
   "metadata": {},
   "outputs": [],
   "source": [
    "# parameters = list(product(p_values, n__values, percent_relevent_values, percent_values))\n",
    "parameters = list(product(p_values, n__values))\n",
    "parameters = [list(t) for t in parameters]\n",
    "\n",
    "for i, params in enumerate(parameters):\n",
    "    parameters[i].append(percent_relevent_values[i])\n",
    "\n",
    "parameters_final = []\n",
    "\n",
    "for params in parameters:\n",
    "    params_tmp = params\n",
    "    for percent in percent_values:\n",
    "        tmp = params_tmp + [percent]\n",
    "        parameters_final.append(tmp)"
   ]
  },
  {
   "cell_type": "code",
   "execution_count": 5,
   "id": "5a3dbc30-e073-42dc-ad40-57afd83dbdb6",
   "metadata": {},
   "outputs": [
    {
     "data": {
      "text/plain": [
       "[[1000, 10, 5, 1.25],\n",
       " [1000, 10, 5, 2.5],\n",
       " [1000, 10, 5, 3.75],\n",
       " [1000, 10, 5, 5.0],\n",
       " [2000, 10, 4.6, 1.25],\n",
       " [2000, 10, 4.6, 2.5],\n",
       " [2000, 10, 4.6, 3.75],\n",
       " [2000, 10, 4.6, 5.0],\n",
       " [3000, 10, 4.34, 1.25],\n",
       " [3000, 10, 4.34, 2.5],\n",
       " [3000, 10, 4.34, 3.75],\n",
       " [3000, 10, 4.34, 5.0],\n",
       " [4000, 10, 4.25, 1.25],\n",
       " [4000, 10, 4.25, 2.5],\n",
       " [4000, 10, 4.25, 3.75],\n",
       " [4000, 10, 4.25, 5.0]]"
      ]
     },
     "execution_count": 5,
     "metadata": {},
     "output_type": "execute_result"
    }
   ],
   "source": [
    "parameters_final"
   ]
  },
  {
   "cell_type": "code",
   "execution_count": 6,
   "id": "6148f48c",
   "metadata": {},
   "outputs": [
    {
     "name": "stdout",
     "output_type": "stream",
     "text": [
      "Total number of experiments: 16\n"
     ]
    }
   ],
   "source": [
    "print(f\"Total number of experiments: {len(parameters_final)}\")"
   ]
  },
  {
   "cell_type": "code",
   "execution_count": 7,
   "id": "09e22caf",
   "metadata": {},
   "outputs": [
    {
     "data": {
      "application/vnd.jupyter.widget-view+json": {
       "model_id": "78b0e4111de946e18f6b4edfdeed41da",
       "version_major": 2,
       "version_minor": 0
      },
      "text/plain": [
       "0it [00:00, ?it/s]"
      ]
     },
     "metadata": {},
     "output_type": "display_data"
    },
    {
     "name": "stdout",
     "output_type": "stream",
     "text": [
      "\n",
      "Running notebook with parameters: {'p': 1000, 'n_': 10, 'percent_relevent': 5, 'percent': 1.25}.\n",
      "Remember that the \"n_\" is not the \"n\"...\n"
     ]
    },
    {
     "data": {
      "application/vnd.jupyter.widget-view+json": {
       "model_id": "89ad5805a1e1451d80c31a51671e3418",
       "version_major": 2,
       "version_minor": 0
      },
      "text/plain": [
       "Executing:   0%|          | 0/38 [00:00<?, ?cell/s]"
      ]
     },
     "metadata": {},
     "output_type": "display_data"
    },
    {
     "name": "stdout",
     "output_type": "stream",
     "text": [
      "Finished execution for params {'p': 1000, 'n_': 10, 'percent_relevent': 5, 'percent': 1.25}.\n",
      "Results saved to ../results/Synthetic/experiment_run_1000_100_5_1.25.ipynb.\n",
      "\n",
      "Running notebook with parameters: {'p': 1000, 'n_': 10, 'percent_relevent': 5, 'percent': 2.5}.\n",
      "Remember that the \"n_\" is not the \"n\"...\n"
     ]
    },
    {
     "data": {
      "application/vnd.jupyter.widget-view+json": {
       "model_id": "c09677b16bd64ba796895357ace8c2c2",
       "version_major": 2,
       "version_minor": 0
      },
      "text/plain": [
       "Executing:   0%|          | 0/38 [00:00<?, ?cell/s]"
      ]
     },
     "metadata": {},
     "output_type": "display_data"
    },
    {
     "name": "stdout",
     "output_type": "stream",
     "text": [
      "Finished execution for params {'p': 1000, 'n_': 10, 'percent_relevent': 5, 'percent': 2.5}.\n",
      "Results saved to ../results/Synthetic/experiment_run_1000_100_5_2.5.ipynb.\n",
      "\n",
      "Running notebook with parameters: {'p': 1000, 'n_': 10, 'percent_relevent': 5, 'percent': 3.75}.\n",
      "Remember that the \"n_\" is not the \"n\"...\n"
     ]
    },
    {
     "data": {
      "application/vnd.jupyter.widget-view+json": {
       "model_id": "d31571568c3f4069a2df5f1036cfa11f",
       "version_major": 2,
       "version_minor": 0
      },
      "text/plain": [
       "Executing:   0%|          | 0/38 [00:00<?, ?cell/s]"
      ]
     },
     "metadata": {},
     "output_type": "display_data"
    },
    {
     "name": "stdout",
     "output_type": "stream",
     "text": [
      "Finished execution for params {'p': 1000, 'n_': 10, 'percent_relevent': 5, 'percent': 3.75}.\n",
      "Results saved to ../results/Synthetic/experiment_run_1000_100_5_3.75.ipynb.\n",
      "\n",
      "Running notebook with parameters: {'p': 1000, 'n_': 10, 'percent_relevent': 5, 'percent': 5.0}.\n",
      "Remember that the \"n_\" is not the \"n\"...\n"
     ]
    },
    {
     "data": {
      "application/vnd.jupyter.widget-view+json": {
       "model_id": "216994b4d5b341c785a7250c8e162589",
       "version_major": 2,
       "version_minor": 0
      },
      "text/plain": [
       "Executing:   0%|          | 0/38 [00:00<?, ?cell/s]"
      ]
     },
     "metadata": {},
     "output_type": "display_data"
    },
    {
     "name": "stdout",
     "output_type": "stream",
     "text": [
      "Finished execution for params {'p': 1000, 'n_': 10, 'percent_relevent': 5, 'percent': 5.0}.\n",
      "Results saved to ../results/Synthetic/experiment_run_1000_100_5_5.0.ipynb.\n",
      "\n",
      "Running notebook with parameters: {'p': 2000, 'n_': 10, 'percent_relevent': 4.6, 'percent': 1.25}.\n",
      "Remember that the \"n_\" is not the \"n\"...\n"
     ]
    },
    {
     "data": {
      "application/vnd.jupyter.widget-view+json": {
       "model_id": "aee99fb6037a46ad84fbdbf482104368",
       "version_major": 2,
       "version_minor": 0
      },
      "text/plain": [
       "Executing:   0%|          | 0/38 [00:00<?, ?cell/s]"
      ]
     },
     "metadata": {},
     "output_type": "display_data"
    },
    {
     "name": "stdout",
     "output_type": "stream",
     "text": [
      "Finished execution for params {'p': 2000, 'n_': 10, 'percent_relevent': 4.6, 'percent': 1.25}.\n",
      "Results saved to ../results/Synthetic/experiment_run_2000_200_4.6_1.25.ipynb.\n",
      "\n",
      "Running notebook with parameters: {'p': 2000, 'n_': 10, 'percent_relevent': 4.6, 'percent': 2.5}.\n",
      "Remember that the \"n_\" is not the \"n\"...\n"
     ]
    },
    {
     "data": {
      "application/vnd.jupyter.widget-view+json": {
       "model_id": "07cd8e6a1ea74416ad413c02f2f30929",
       "version_major": 2,
       "version_minor": 0
      },
      "text/plain": [
       "Executing:   0%|          | 0/38 [00:00<?, ?cell/s]"
      ]
     },
     "metadata": {},
     "output_type": "display_data"
    },
    {
     "name": "stdout",
     "output_type": "stream",
     "text": [
      "Finished execution for params {'p': 2000, 'n_': 10, 'percent_relevent': 4.6, 'percent': 2.5}.\n",
      "Results saved to ../results/Synthetic/experiment_run_2000_200_4.6_2.5.ipynb.\n",
      "\n",
      "Running notebook with parameters: {'p': 2000, 'n_': 10, 'percent_relevent': 4.6, 'percent': 3.75}.\n",
      "Remember that the \"n_\" is not the \"n\"...\n"
     ]
    },
    {
     "data": {
      "application/vnd.jupyter.widget-view+json": {
       "model_id": "522ae191d69d4c3da0756edb3dfe040a",
       "version_major": 2,
       "version_minor": 0
      },
      "text/plain": [
       "Executing:   0%|          | 0/38 [00:00<?, ?cell/s]"
      ]
     },
     "metadata": {},
     "output_type": "display_data"
    },
    {
     "name": "stdout",
     "output_type": "stream",
     "text": [
      "Finished execution for params {'p': 2000, 'n_': 10, 'percent_relevent': 4.6, 'percent': 3.75}.\n",
      "Results saved to ../results/Synthetic/experiment_run_2000_200_4.6_3.75.ipynb.\n",
      "\n",
      "Running notebook with parameters: {'p': 2000, 'n_': 10, 'percent_relevent': 4.6, 'percent': 5.0}.\n",
      "Remember that the \"n_\" is not the \"n\"...\n"
     ]
    },
    {
     "data": {
      "application/vnd.jupyter.widget-view+json": {
       "model_id": "e5a5dc12a9cb4364aaf5c1b63c73a2d3",
       "version_major": 2,
       "version_minor": 0
      },
      "text/plain": [
       "Executing:   0%|          | 0/38 [00:00<?, ?cell/s]"
      ]
     },
     "metadata": {},
     "output_type": "display_data"
    },
    {
     "name": "stdout",
     "output_type": "stream",
     "text": [
      "Finished execution for params {'p': 2000, 'n_': 10, 'percent_relevent': 4.6, 'percent': 5.0}.\n",
      "Results saved to ../results/Synthetic/experiment_run_2000_200_4.6_5.0.ipynb.\n",
      "\n",
      "Running notebook with parameters: {'p': 3000, 'n_': 10, 'percent_relevent': 4.34, 'percent': 1.25}.\n",
      "Remember that the \"n_\" is not the \"n\"...\n"
     ]
    },
    {
     "data": {
      "application/vnd.jupyter.widget-view+json": {
       "model_id": "5882ef6648ef4fd192d6d2ccd593cd9c",
       "version_major": 2,
       "version_minor": 0
      },
      "text/plain": [
       "Executing:   0%|          | 0/38 [00:00<?, ?cell/s]"
      ]
     },
     "metadata": {},
     "output_type": "display_data"
    },
    {
     "name": "stdout",
     "output_type": "stream",
     "text": [
      "Finished execution for params {'p': 3000, 'n_': 10, 'percent_relevent': 4.34, 'percent': 1.25}.\n",
      "Results saved to ../results/Synthetic/experiment_run_3000_300_4.34_1.25.ipynb.\n",
      "\n",
      "Running notebook with parameters: {'p': 3000, 'n_': 10, 'percent_relevent': 4.34, 'percent': 2.5}.\n",
      "Remember that the \"n_\" is not the \"n\"...\n"
     ]
    },
    {
     "data": {
      "application/vnd.jupyter.widget-view+json": {
       "model_id": "8a3b0a09eed54da98acb8f42f6a20188",
       "version_major": 2,
       "version_minor": 0
      },
      "text/plain": [
       "Executing:   0%|          | 0/38 [00:00<?, ?cell/s]"
      ]
     },
     "metadata": {},
     "output_type": "display_data"
    },
    {
     "name": "stdout",
     "output_type": "stream",
     "text": [
      "Finished execution for params {'p': 3000, 'n_': 10, 'percent_relevent': 4.34, 'percent': 2.5}.\n",
      "Results saved to ../results/Synthetic/experiment_run_3000_300_4.34_2.5.ipynb.\n",
      "\n",
      "Running notebook with parameters: {'p': 3000, 'n_': 10, 'percent_relevent': 4.34, 'percent': 3.75}.\n",
      "Remember that the \"n_\" is not the \"n\"...\n"
     ]
    },
    {
     "data": {
      "application/vnd.jupyter.widget-view+json": {
       "model_id": "2009041a957342339a399c000151f854",
       "version_major": 2,
       "version_minor": 0
      },
      "text/plain": [
       "Executing:   0%|          | 0/38 [00:00<?, ?cell/s]"
      ]
     },
     "metadata": {},
     "output_type": "display_data"
    },
    {
     "name": "stdout",
     "output_type": "stream",
     "text": [
      "Finished execution for params {'p': 3000, 'n_': 10, 'percent_relevent': 4.34, 'percent': 3.75}.\n",
      "Results saved to ../results/Synthetic/experiment_run_3000_300_4.34_3.75.ipynb.\n",
      "\n",
      "Running notebook with parameters: {'p': 3000, 'n_': 10, 'percent_relevent': 4.34, 'percent': 5.0}.\n",
      "Remember that the \"n_\" is not the \"n\"...\n"
     ]
    },
    {
     "data": {
      "application/vnd.jupyter.widget-view+json": {
       "model_id": "8962bddea3bb4abcb72829e3866bb325",
       "version_major": 2,
       "version_minor": 0
      },
      "text/plain": [
       "Executing:   0%|          | 0/38 [00:00<?, ?cell/s]"
      ]
     },
     "metadata": {},
     "output_type": "display_data"
    },
    {
     "name": "stdout",
     "output_type": "stream",
     "text": [
      "Finished execution for params {'p': 3000, 'n_': 10, 'percent_relevent': 4.34, 'percent': 5.0}.\n",
      "Results saved to ../results/Synthetic/experiment_run_3000_300_4.34_5.0.ipynb.\n",
      "\n",
      "Running notebook with parameters: {'p': 4000, 'n_': 10, 'percent_relevent': 4.25, 'percent': 1.25}.\n",
      "Remember that the \"n_\" is not the \"n\"...\n"
     ]
    },
    {
     "data": {
      "application/vnd.jupyter.widget-view+json": {
       "model_id": "f957463fe0124cef966fe9b403496bbf",
       "version_major": 2,
       "version_minor": 0
      },
      "text/plain": [
       "Executing:   0%|          | 0/38 [00:00<?, ?cell/s]"
      ]
     },
     "metadata": {},
     "output_type": "display_data"
    },
    {
     "name": "stdout",
     "output_type": "stream",
     "text": [
      "Finished execution for params {'p': 4000, 'n_': 10, 'percent_relevent': 4.25, 'percent': 1.25}.\n",
      "Results saved to ../results/Synthetic/experiment_run_4000_400_4.25_1.25.ipynb.\n",
      "\n",
      "Running notebook with parameters: {'p': 4000, 'n_': 10, 'percent_relevent': 4.25, 'percent': 2.5}.\n",
      "Remember that the \"n_\" is not the \"n\"...\n"
     ]
    },
    {
     "data": {
      "application/vnd.jupyter.widget-view+json": {
       "model_id": "72a42078455b476fa229af12cf3d8ce9",
       "version_major": 2,
       "version_minor": 0
      },
      "text/plain": [
       "Executing:   0%|          | 0/38 [00:00<?, ?cell/s]"
      ]
     },
     "metadata": {},
     "output_type": "display_data"
    },
    {
     "name": "stdout",
     "output_type": "stream",
     "text": [
      "Finished execution for params {'p': 4000, 'n_': 10, 'percent_relevent': 4.25, 'percent': 2.5}.\n",
      "Results saved to ../results/Synthetic/experiment_run_4000_400_4.25_2.5.ipynb.\n",
      "\n",
      "Running notebook with parameters: {'p': 4000, 'n_': 10, 'percent_relevent': 4.25, 'percent': 3.75}.\n",
      "Remember that the \"n_\" is not the \"n\"...\n"
     ]
    },
    {
     "data": {
      "application/vnd.jupyter.widget-view+json": {
       "model_id": "63d069142e8847788a73a6c8e6c1be51",
       "version_major": 2,
       "version_minor": 0
      },
      "text/plain": [
       "Executing:   0%|          | 0/38 [00:00<?, ?cell/s]"
      ]
     },
     "metadata": {},
     "output_type": "display_data"
    },
    {
     "name": "stdout",
     "output_type": "stream",
     "text": [
      "Finished execution for params {'p': 4000, 'n_': 10, 'percent_relevent': 4.25, 'percent': 3.75}.\n",
      "Results saved to ../results/Synthetic/experiment_run_4000_400_4.25_3.75.ipynb.\n",
      "\n",
      "Running notebook with parameters: {'p': 4000, 'n_': 10, 'percent_relevent': 4.25, 'percent': 5.0}.\n",
      "Remember that the \"n_\" is not the \"n\"...\n"
     ]
    },
    {
     "data": {
      "application/vnd.jupyter.widget-view+json": {
       "model_id": "740e0bbb0283415ba2378a118b6a4d02",
       "version_major": 2,
       "version_minor": 0
      },
      "text/plain": [
       "Executing:   0%|          | 0/38 [00:00<?, ?cell/s]"
      ]
     },
     "metadata": {},
     "output_type": "display_data"
    },
    {
     "name": "stdout",
     "output_type": "stream",
     "text": [
      "Finished execution for params {'p': 4000, 'n_': 10, 'percent_relevent': 4.25, 'percent': 5.0}.\n",
      "Results saved to ../results/Synthetic/experiment_run_4000_400_4.25_5.0.ipynb.\n"
     ]
    }
   ],
   "source": [
    "for i, (p, n_, percent_relevant, percent) in tqdm(enumerate(parameters_final)):\n",
    "    \n",
    "    params = {\"p\": p, \"n_\": n_, \"percent_relevent\": percent_relevant, \"percent\": percent}\n",
    "    \n",
    "    output_notebook = f\"{output_directory}/experiment_run_{p}_{p // n_}_{percent_relevant}_{percent}.ipynb\"\n",
    "    \n",
    "    print(f\"\\nRunning notebook with parameters: {params}.\")\n",
    "    print(\"\"\"Remember that the \"n_\" is not the \"n\"...\"\"\")\n",
    "    \n",
    "    pm.execute_notebook(\n",
    "        input_path=input_notebook,\n",
    "        output_path=output_notebook,\n",
    "        parameters=params\n",
    "    )\n",
    "    \n",
    "    print(f\"Finished execution for params {params}.\")\n",
    "    print(f\"Results saved to {output_notebook}.\")"
   ]
  },
  {
   "cell_type": "code",
   "execution_count": null,
   "id": "92983aff",
   "metadata": {},
   "outputs": [],
   "source": []
  }
 ],
 "metadata": {
  "kernelspec": {
   "display_name": "Python (.venv)",
   "language": "python",
   "name": ".venv"
  },
  "language_info": {
   "codemirror_mode": {
    "name": "ipython",
    "version": 3
   },
   "file_extension": ".py",
   "mimetype": "text/x-python",
   "name": "python",
   "nbconvert_exporter": "python",
   "pygments_lexer": "ipython3",
   "version": "3.13.1"
  }
 },
 "nbformat": 4,
 "nbformat_minor": 5
}
