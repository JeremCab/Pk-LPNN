{
 "cells": [
  {
   "cell_type": "markdown",
   "id": "ab8eeaa2",
   "metadata": {},
   "source": [
    "# Run experiments `application_Synthetic.ipynb`"
   ]
  },
  {
   "cell_type": "code",
   "execution_count": 1,
   "id": "e8c78a2e",
   "metadata": {},
   "outputs": [],
   "source": [
    "from tqdm.notebook import tqdm\n",
    "import papermill as pm\n",
    "from itertools import product"
   ]
  },
  {
   "cell_type": "code",
   "execution_count": 2,
   "id": "048236b0",
   "metadata": {},
   "outputs": [],
   "source": [
    "input_notebook = \"application_Synthetic.ipynb\"\n",
    "output_directory = \"results/\""
   ]
  },
  {
   "cell_type": "code",
   "execution_count": 3,
   "id": "c6f4901d",
   "metadata": {},
   "outputs": [],
   "source": [
    "p_values = [2000, 4000, 6000, 8000, 10000]\n",
    "n__values =  [50, 40, 30] # not the real n's (which are computed in the notebook)s!\n",
    "percent_values = [1.25, 2.5, 5.0, 10.0]"
   ]
  },
  {
   "cell_type": "code",
   "execution_count": 4,
   "id": "00da24fb",
   "metadata": {},
   "outputs": [],
   "source": [
    "parameter_combinations = list(product(p_values, n__values, percent_values))\n",
    "# parameter_combinations"
   ]
  },
  {
   "cell_type": "code",
   "execution_count": 5,
   "id": "6148f48c",
   "metadata": {},
   "outputs": [
    {
     "name": "stdout",
     "output_type": "stream",
     "text": [
      "Total number of experiments: 48\n"
     ]
    }
   ],
   "source": [
    "print(f\"Total number of experiments: {len(parameter_combinations)}\")"
   ]
  },
  {
   "cell_type": "code",
   "execution_count": 6,
   "id": "09e22caf",
   "metadata": {
    "scrolled": false
   },
   "outputs": [
    {
     "data": {
      "application/vnd.jupyter.widget-view+json": {
       "model_id": "cf1f6d4a11d846769d67762d9327b53e",
       "version_major": 2,
       "version_minor": 0
      },
      "text/plain": [
       "0it [00:00, ?it/s]"
      ]
     },
     "metadata": {},
     "output_type": "display_data"
    },
    {
     "name": "stdout",
     "output_type": "stream",
     "text": [
      "\n",
      "Running notebook with parameters: {'p': 4000, 'n_': 50, 'percent': 1.25}.\n",
      "Remember that the \"n_\" is not the \"n\"...\n"
     ]
    },
    {
     "data": {
      "application/vnd.jupyter.widget-view+json": {
       "model_id": "5f44751cc8d74af09f5d64963f85d7f7",
       "version_major": 2,
       "version_minor": 0
      },
      "text/plain": [
       "Executing:   0%|          | 0/45 [00:00<?, ?cell/s]"
      ]
     },
     "metadata": {},
     "output_type": "display_data"
    },
    {
     "name": "stdout",
     "output_type": "stream",
     "text": [
      "Finished execution for params {'p': 4000, 'n_': 50, 'percent': 1.25}.\n",
      "Results saved to results//experiment_run_4000_50_1.25.ipynb.\n",
      "\n",
      "Running notebook with parameters: {'p': 4000, 'n_': 50, 'percent': 2.5}.\n",
      "Remember that the \"n_\" is not the \"n\"...\n"
     ]
    },
    {
     "data": {
      "application/vnd.jupyter.widget-view+json": {
       "model_id": "9dd6c11ca8f84d7e9f918e1eb6833da2",
       "version_major": 2,
       "version_minor": 0
      },
      "text/plain": [
       "Executing:   0%|          | 0/45 [00:00<?, ?cell/s]"
      ]
     },
     "metadata": {},
     "output_type": "display_data"
    },
    {
     "name": "stdout",
     "output_type": "stream",
     "text": [
      "Finished execution for params {'p': 4000, 'n_': 50, 'percent': 2.5}.\n",
      "Results saved to results//experiment_run_4000_50_2.5.ipynb.\n",
      "\n",
      "Running notebook with parameters: {'p': 4000, 'n_': 50, 'percent': 5.0}.\n",
      "Remember that the \"n_\" is not the \"n\"...\n"
     ]
    },
    {
     "data": {
      "application/vnd.jupyter.widget-view+json": {
       "model_id": "da6895a66a134c79a5588509801b571a",
       "version_major": 2,
       "version_minor": 0
      },
      "text/plain": [
       "Executing:   0%|          | 0/45 [00:00<?, ?cell/s]"
      ]
     },
     "metadata": {},
     "output_type": "display_data"
    },
    {
     "name": "stdout",
     "output_type": "stream",
     "text": [
      "Finished execution for params {'p': 4000, 'n_': 50, 'percent': 5.0}.\n",
      "Results saved to results//experiment_run_4000_50_5.0.ipynb.\n",
      "\n",
      "Running notebook with parameters: {'p': 4000, 'n_': 50, 'percent': 10.0}.\n",
      "Remember that the \"n_\" is not the \"n\"...\n"
     ]
    },
    {
     "data": {
      "application/vnd.jupyter.widget-view+json": {
       "model_id": "558a9037fd0a428ea0cbd53cfdf46087",
       "version_major": 2,
       "version_minor": 0
      },
      "text/plain": [
       "Executing:   0%|          | 0/45 [00:00<?, ?cell/s]"
      ]
     },
     "metadata": {},
     "output_type": "display_data"
    },
    {
     "name": "stdout",
     "output_type": "stream",
     "text": [
      "Finished execution for params {'p': 4000, 'n_': 50, 'percent': 10.0}.\n",
      "Results saved to results//experiment_run_4000_50_10.0.ipynb.\n",
      "\n",
      "Running notebook with parameters: {'p': 4000, 'n_': 40, 'percent': 1.25}.\n",
      "Remember that the \"n_\" is not the \"n\"...\n"
     ]
    },
    {
     "data": {
      "application/vnd.jupyter.widget-view+json": {
       "model_id": "b3cc33ff0b044c3c8edaf5215dccaccd",
       "version_major": 2,
       "version_minor": 0
      },
      "text/plain": [
       "Executing:   0%|          | 0/45 [00:00<?, ?cell/s]"
      ]
     },
     "metadata": {},
     "output_type": "display_data"
    },
    {
     "name": "stdout",
     "output_type": "stream",
     "text": [
      "Finished execution for params {'p': 4000, 'n_': 40, 'percent': 1.25}.\n",
      "Results saved to results//experiment_run_4000_40_1.25.ipynb.\n",
      "\n",
      "Running notebook with parameters: {'p': 4000, 'n_': 40, 'percent': 2.5}.\n",
      "Remember that the \"n_\" is not the \"n\"...\n"
     ]
    },
    {
     "data": {
      "application/vnd.jupyter.widget-view+json": {
       "model_id": "469f5842b7394a089629f8d9eb6dafd6",
       "version_major": 2,
       "version_minor": 0
      },
      "text/plain": [
       "Executing:   0%|          | 0/45 [00:00<?, ?cell/s]"
      ]
     },
     "metadata": {},
     "output_type": "display_data"
    },
    {
     "name": "stdout",
     "output_type": "stream",
     "text": [
      "Finished execution for params {'p': 4000, 'n_': 40, 'percent': 2.5}.\n",
      "Results saved to results//experiment_run_4000_40_2.5.ipynb.\n",
      "\n",
      "Running notebook with parameters: {'p': 4000, 'n_': 40, 'percent': 5.0}.\n",
      "Remember that the \"n_\" is not the \"n\"...\n"
     ]
    },
    {
     "data": {
      "application/vnd.jupyter.widget-view+json": {
       "model_id": "62c5ffc0f8f449d391fe43eebeaaa144",
       "version_major": 2,
       "version_minor": 0
      },
      "text/plain": [
       "Executing:   0%|          | 0/45 [00:00<?, ?cell/s]"
      ]
     },
     "metadata": {},
     "output_type": "display_data"
    },
    {
     "name": "stdout",
     "output_type": "stream",
     "text": [
      "Finished execution for params {'p': 4000, 'n_': 40, 'percent': 5.0}.\n",
      "Results saved to results//experiment_run_4000_40_5.0.ipynb.\n",
      "\n",
      "Running notebook with parameters: {'p': 4000, 'n_': 40, 'percent': 10.0}.\n",
      "Remember that the \"n_\" is not the \"n\"...\n"
     ]
    },
    {
     "data": {
      "application/vnd.jupyter.widget-view+json": {
       "model_id": "e77b7e5bea4343eabf04283e1d81f007",
       "version_major": 2,
       "version_minor": 0
      },
      "text/plain": [
       "Executing:   0%|          | 0/45 [00:00<?, ?cell/s]"
      ]
     },
     "metadata": {},
     "output_type": "display_data"
    },
    {
     "name": "stdout",
     "output_type": "stream",
     "text": [
      "Finished execution for params {'p': 4000, 'n_': 40, 'percent': 10.0}.\n",
      "Results saved to results//experiment_run_4000_40_10.0.ipynb.\n",
      "\n",
      "Running notebook with parameters: {'p': 4000, 'n_': 30, 'percent': 1.25}.\n",
      "Remember that the \"n_\" is not the \"n\"...\n"
     ]
    },
    {
     "data": {
      "application/vnd.jupyter.widget-view+json": {
       "model_id": "4d9bf69ff35646b2be93a59b94e401bf",
       "version_major": 2,
       "version_minor": 0
      },
      "text/plain": [
       "Executing:   0%|          | 0/45 [00:00<?, ?cell/s]"
      ]
     },
     "metadata": {},
     "output_type": "display_data"
    },
    {
     "name": "stdout",
     "output_type": "stream",
     "text": [
      "Finished execution for params {'p': 4000, 'n_': 30, 'percent': 1.25}.\n",
      "Results saved to results//experiment_run_4000_30_1.25.ipynb.\n",
      "\n",
      "Running notebook with parameters: {'p': 4000, 'n_': 30, 'percent': 2.5}.\n",
      "Remember that the \"n_\" is not the \"n\"...\n"
     ]
    },
    {
     "data": {
      "application/vnd.jupyter.widget-view+json": {
       "model_id": "a6058c6b46a3442ebe2b05cd5abc4a7d",
       "version_major": 2,
       "version_minor": 0
      },
      "text/plain": [
       "Executing:   0%|          | 0/45 [00:00<?, ?cell/s]"
      ]
     },
     "metadata": {},
     "output_type": "display_data"
    },
    {
     "name": "stdout",
     "output_type": "stream",
     "text": [
      "Finished execution for params {'p': 4000, 'n_': 30, 'percent': 2.5}.\n",
      "Results saved to results//experiment_run_4000_30_2.5.ipynb.\n",
      "\n",
      "Running notebook with parameters: {'p': 4000, 'n_': 30, 'percent': 5.0}.\n",
      "Remember that the \"n_\" is not the \"n\"...\n"
     ]
    },
    {
     "data": {
      "application/vnd.jupyter.widget-view+json": {
       "model_id": "6107f6ab104745ebb3687de32679f07d",
       "version_major": 2,
       "version_minor": 0
      },
      "text/plain": [
       "Executing:   0%|          | 0/45 [00:00<?, ?cell/s]"
      ]
     },
     "metadata": {},
     "output_type": "display_data"
    },
    {
     "name": "stdout",
     "output_type": "stream",
     "text": [
      "Finished execution for params {'p': 4000, 'n_': 30, 'percent': 5.0}.\n",
      "Results saved to results//experiment_run_4000_30_5.0.ipynb.\n",
      "\n",
      "Running notebook with parameters: {'p': 4000, 'n_': 30, 'percent': 10.0}.\n",
      "Remember that the \"n_\" is not the \"n\"...\n"
     ]
    },
    {
     "data": {
      "application/vnd.jupyter.widget-view+json": {
       "model_id": "8268445fd4e3439d94c987f2b8b240ae",
       "version_major": 2,
       "version_minor": 0
      },
      "text/plain": [
       "Executing:   0%|          | 0/45 [00:00<?, ?cell/s]"
      ]
     },
     "metadata": {},
     "output_type": "display_data"
    },
    {
     "name": "stdout",
     "output_type": "stream",
     "text": [
      "Finished execution for params {'p': 4000, 'n_': 30, 'percent': 10.0}.\n",
      "Results saved to results//experiment_run_4000_30_10.0.ipynb.\n",
      "\n",
      "Running notebook with parameters: {'p': 6000, 'n_': 50, 'percent': 1.25}.\n",
      "Remember that the \"n_\" is not the \"n\"...\n"
     ]
    },
    {
     "data": {
      "application/vnd.jupyter.widget-view+json": {
       "model_id": "9bbc694c82e74dbb8f2f6c867122c6ea",
       "version_major": 2,
       "version_minor": 0
      },
      "text/plain": [
       "Executing:   0%|          | 0/45 [00:00<?, ?cell/s]"
      ]
     },
     "metadata": {},
     "output_type": "display_data"
    },
    {
     "name": "stdout",
     "output_type": "stream",
     "text": [
      "Finished execution for params {'p': 6000, 'n_': 50, 'percent': 1.25}.\n",
      "Results saved to results//experiment_run_6000_50_1.25.ipynb.\n",
      "\n",
      "Running notebook with parameters: {'p': 6000, 'n_': 50, 'percent': 2.5}.\n",
      "Remember that the \"n_\" is not the \"n\"...\n"
     ]
    },
    {
     "data": {
      "application/vnd.jupyter.widget-view+json": {
       "model_id": "3b4df8da893f4c7fa6be9b3b58ec47d3",
       "version_major": 2,
       "version_minor": 0
      },
      "text/plain": [
       "Executing:   0%|          | 0/45 [00:00<?, ?cell/s]"
      ]
     },
     "metadata": {},
     "output_type": "display_data"
    },
    {
     "name": "stdout",
     "output_type": "stream",
     "text": [
      "Finished execution for params {'p': 6000, 'n_': 50, 'percent': 2.5}.\n",
      "Results saved to results//experiment_run_6000_50_2.5.ipynb.\n",
      "\n",
      "Running notebook with parameters: {'p': 6000, 'n_': 50, 'percent': 5.0}.\n",
      "Remember that the \"n_\" is not the \"n\"...\n"
     ]
    },
    {
     "data": {
      "application/vnd.jupyter.widget-view+json": {
       "model_id": "49d6eb0a8a014a53ad426ef9e6c5dedd",
       "version_major": 2,
       "version_minor": 0
      },
      "text/plain": [
       "Executing:   0%|          | 0/45 [00:00<?, ?cell/s]"
      ]
     },
     "metadata": {},
     "output_type": "display_data"
    },
    {
     "name": "stdout",
     "output_type": "stream",
     "text": [
      "Finished execution for params {'p': 6000, 'n_': 50, 'percent': 5.0}.\n",
      "Results saved to results//experiment_run_6000_50_5.0.ipynb.\n",
      "\n",
      "Running notebook with parameters: {'p': 6000, 'n_': 50, 'percent': 10.0}.\n",
      "Remember that the \"n_\" is not the \"n\"...\n"
     ]
    },
    {
     "data": {
      "application/vnd.jupyter.widget-view+json": {
       "model_id": "31f008ed655e4a35ac6922ab81ae1b9a",
       "version_major": 2,
       "version_minor": 0
      },
      "text/plain": [
       "Executing:   0%|          | 0/45 [00:00<?, ?cell/s]"
      ]
     },
     "metadata": {},
     "output_type": "display_data"
    },
    {
     "name": "stdout",
     "output_type": "stream",
     "text": [
      "Finished execution for params {'p': 6000, 'n_': 50, 'percent': 10.0}.\n",
      "Results saved to results//experiment_run_6000_50_10.0.ipynb.\n",
      "\n",
      "Running notebook with parameters: {'p': 6000, 'n_': 40, 'percent': 1.25}.\n",
      "Remember that the \"n_\" is not the \"n\"...\n"
     ]
    },
    {
     "data": {
      "application/vnd.jupyter.widget-view+json": {
       "model_id": "60d515ce07d04d2da78f1faef728e301",
       "version_major": 2,
       "version_minor": 0
      },
      "text/plain": [
       "Executing:   0%|          | 0/45 [00:00<?, ?cell/s]"
      ]
     },
     "metadata": {},
     "output_type": "display_data"
    },
    {
     "name": "stdout",
     "output_type": "stream",
     "text": [
      "Finished execution for params {'p': 6000, 'n_': 40, 'percent': 1.25}.\n",
      "Results saved to results//experiment_run_6000_40_1.25.ipynb.\n",
      "\n",
      "Running notebook with parameters: {'p': 6000, 'n_': 40, 'percent': 2.5}.\n",
      "Remember that the \"n_\" is not the \"n\"...\n"
     ]
    },
    {
     "data": {
      "application/vnd.jupyter.widget-view+json": {
       "model_id": "9942ad9ba48e46d5bd7678c80d5bd389",
       "version_major": 2,
       "version_minor": 0
      },
      "text/plain": [
       "Executing:   0%|          | 0/45 [00:00<?, ?cell/s]"
      ]
     },
     "metadata": {},
     "output_type": "display_data"
    },
    {
     "name": "stdout",
     "output_type": "stream",
     "text": [
      "Finished execution for params {'p': 6000, 'n_': 40, 'percent': 2.5}.\n",
      "Results saved to results//experiment_run_6000_40_2.5.ipynb.\n",
      "\n",
      "Running notebook with parameters: {'p': 6000, 'n_': 40, 'percent': 5.0}.\n",
      "Remember that the \"n_\" is not the \"n\"...\n"
     ]
    },
    {
     "data": {
      "application/vnd.jupyter.widget-view+json": {
       "model_id": "338f3fe768ba48479ede78960836f507",
       "version_major": 2,
       "version_minor": 0
      },
      "text/plain": [
       "Executing:   0%|          | 0/45 [00:00<?, ?cell/s]"
      ]
     },
     "metadata": {},
     "output_type": "display_data"
    },
    {
     "name": "stdout",
     "output_type": "stream",
     "text": [
      "Finished execution for params {'p': 6000, 'n_': 40, 'percent': 5.0}.\n",
      "Results saved to results//experiment_run_6000_40_5.0.ipynb.\n",
      "\n",
      "Running notebook with parameters: {'p': 6000, 'n_': 40, 'percent': 10.0}.\n",
      "Remember that the \"n_\" is not the \"n\"...\n"
     ]
    },
    {
     "data": {
      "application/vnd.jupyter.widget-view+json": {
       "model_id": "ee0cabe9c86b4aacb9388a68e6a6619f",
       "version_major": 2,
       "version_minor": 0
      },
      "text/plain": [
       "Executing:   0%|          | 0/45 [00:00<?, ?cell/s]"
      ]
     },
     "metadata": {},
     "output_type": "display_data"
    },
    {
     "name": "stdout",
     "output_type": "stream",
     "text": [
      "Finished execution for params {'p': 6000, 'n_': 40, 'percent': 10.0}.\n",
      "Results saved to results//experiment_run_6000_40_10.0.ipynb.\n",
      "\n",
      "Running notebook with parameters: {'p': 6000, 'n_': 30, 'percent': 1.25}.\n",
      "Remember that the \"n_\" is not the \"n\"...\n"
     ]
    },
    {
     "data": {
      "application/vnd.jupyter.widget-view+json": {
       "model_id": "5967e063b03f41ad9115e3766cce9f20",
       "version_major": 2,
       "version_minor": 0
      },
      "text/plain": [
       "Executing:   0%|          | 0/45 [00:00<?, ?cell/s]"
      ]
     },
     "metadata": {},
     "output_type": "display_data"
    },
    {
     "name": "stdout",
     "output_type": "stream",
     "text": [
      "Finished execution for params {'p': 6000, 'n_': 30, 'percent': 1.25}.\n",
      "Results saved to results//experiment_run_6000_30_1.25.ipynb.\n",
      "\n",
      "Running notebook with parameters: {'p': 6000, 'n_': 30, 'percent': 2.5}.\n",
      "Remember that the \"n_\" is not the \"n\"...\n"
     ]
    },
    {
     "data": {
      "application/vnd.jupyter.widget-view+json": {
       "model_id": "f88ce334dfa84242a92356cae3aafd9e",
       "version_major": 2,
       "version_minor": 0
      },
      "text/plain": [
       "Executing:   0%|          | 0/45 [00:00<?, ?cell/s]"
      ]
     },
     "metadata": {},
     "output_type": "display_data"
    },
    {
     "name": "stdout",
     "output_type": "stream",
     "text": [
      "Finished execution for params {'p': 6000, 'n_': 30, 'percent': 2.5}.\n",
      "Results saved to results//experiment_run_6000_30_2.5.ipynb.\n",
      "\n",
      "Running notebook with parameters: {'p': 6000, 'n_': 30, 'percent': 5.0}.\n",
      "Remember that the \"n_\" is not the \"n\"...\n"
     ]
    },
    {
     "data": {
      "application/vnd.jupyter.widget-view+json": {
       "model_id": "c458030f425e48f480d15edc52c37012",
       "version_major": 2,
       "version_minor": 0
      },
      "text/plain": [
       "Executing:   0%|          | 0/45 [00:00<?, ?cell/s]"
      ]
     },
     "metadata": {},
     "output_type": "display_data"
    },
    {
     "name": "stdout",
     "output_type": "stream",
     "text": [
      "Finished execution for params {'p': 6000, 'n_': 30, 'percent': 5.0}.\n",
      "Results saved to results//experiment_run_6000_30_5.0.ipynb.\n",
      "\n",
      "Running notebook with parameters: {'p': 6000, 'n_': 30, 'percent': 10.0}.\n",
      "Remember that the \"n_\" is not the \"n\"...\n"
     ]
    },
    {
     "data": {
      "application/vnd.jupyter.widget-view+json": {
       "model_id": "65f87bf43aa5467c82419fee95bafc3e",
       "version_major": 2,
       "version_minor": 0
      },
      "text/plain": [
       "Executing:   0%|          | 0/45 [00:00<?, ?cell/s]"
      ]
     },
     "metadata": {},
     "output_type": "display_data"
    },
    {
     "name": "stdout",
     "output_type": "stream",
     "text": [
      "Finished execution for params {'p': 6000, 'n_': 30, 'percent': 10.0}.\n",
      "Results saved to results//experiment_run_6000_30_10.0.ipynb.\n",
      "\n",
      "Running notebook with parameters: {'p': 8000, 'n_': 50, 'percent': 1.25}.\n",
      "Remember that the \"n_\" is not the \"n\"...\n"
     ]
    },
    {
     "data": {
      "application/vnd.jupyter.widget-view+json": {
       "model_id": "aa99e62e822c471d87cd135dead63193",
       "version_major": 2,
       "version_minor": 0
      },
      "text/plain": [
       "Executing:   0%|          | 0/45 [00:00<?, ?cell/s]"
      ]
     },
     "metadata": {},
     "output_type": "display_data"
    },
    {
     "name": "stdout",
     "output_type": "stream",
     "text": [
      "Finished execution for params {'p': 8000, 'n_': 50, 'percent': 1.25}.\n",
      "Results saved to results//experiment_run_8000_50_1.25.ipynb.\n",
      "\n",
      "Running notebook with parameters: {'p': 8000, 'n_': 50, 'percent': 2.5}.\n",
      "Remember that the \"n_\" is not the \"n\"...\n"
     ]
    },
    {
     "data": {
      "application/vnd.jupyter.widget-view+json": {
       "model_id": "baecc081e35348b99f415507adbb6b24",
       "version_major": 2,
       "version_minor": 0
      },
      "text/plain": [
       "Executing:   0%|          | 0/45 [00:00<?, ?cell/s]"
      ]
     },
     "metadata": {},
     "output_type": "display_data"
    },
    {
     "name": "stdout",
     "output_type": "stream",
     "text": [
      "Finished execution for params {'p': 8000, 'n_': 50, 'percent': 2.5}.\n",
      "Results saved to results//experiment_run_8000_50_2.5.ipynb.\n",
      "\n",
      "Running notebook with parameters: {'p': 8000, 'n_': 50, 'percent': 5.0}.\n",
      "Remember that the \"n_\" is not the \"n\"...\n"
     ]
    },
    {
     "data": {
      "application/vnd.jupyter.widget-view+json": {
       "model_id": "8ef22096908d48b88c790d7f30d115bf",
       "version_major": 2,
       "version_minor": 0
      },
      "text/plain": [
       "Executing:   0%|          | 0/45 [00:00<?, ?cell/s]"
      ]
     },
     "metadata": {},
     "output_type": "display_data"
    },
    {
     "name": "stdout",
     "output_type": "stream",
     "text": [
      "Finished execution for params {'p': 8000, 'n_': 50, 'percent': 5.0}.\n",
      "Results saved to results//experiment_run_8000_50_5.0.ipynb.\n",
      "\n",
      "Running notebook with parameters: {'p': 8000, 'n_': 50, 'percent': 10.0}.\n",
      "Remember that the \"n_\" is not the \"n\"...\n"
     ]
    },
    {
     "data": {
      "application/vnd.jupyter.widget-view+json": {
       "model_id": "2a64a3ea98a64e4d8110be7e1e21c0e8",
       "version_major": 2,
       "version_minor": 0
      },
      "text/plain": [
       "Executing:   0%|          | 0/45 [00:00<?, ?cell/s]"
      ]
     },
     "metadata": {},
     "output_type": "display_data"
    },
    {
     "name": "stdout",
     "output_type": "stream",
     "text": [
      "Finished execution for params {'p': 8000, 'n_': 50, 'percent': 10.0}.\n",
      "Results saved to results//experiment_run_8000_50_10.0.ipynb.\n",
      "\n",
      "Running notebook with parameters: {'p': 8000, 'n_': 40, 'percent': 1.25}.\n",
      "Remember that the \"n_\" is not the \"n\"...\n"
     ]
    },
    {
     "data": {
      "application/vnd.jupyter.widget-view+json": {
       "model_id": "611380221f0b4d788db90b43fcb17f15",
       "version_major": 2,
       "version_minor": 0
      },
      "text/plain": [
       "Executing:   0%|          | 0/45 [00:00<?, ?cell/s]"
      ]
     },
     "metadata": {},
     "output_type": "display_data"
    },
    {
     "name": "stdout",
     "output_type": "stream",
     "text": [
      "Finished execution for params {'p': 8000, 'n_': 40, 'percent': 1.25}.\n",
      "Results saved to results//experiment_run_8000_40_1.25.ipynb.\n",
      "\n",
      "Running notebook with parameters: {'p': 8000, 'n_': 40, 'percent': 2.5}.\n",
      "Remember that the \"n_\" is not the \"n\"...\n"
     ]
    },
    {
     "data": {
      "application/vnd.jupyter.widget-view+json": {
       "model_id": "8c924be7d3ff44059e46ce2c1953ca91",
       "version_major": 2,
       "version_minor": 0
      },
      "text/plain": [
       "Executing:   0%|          | 0/45 [00:00<?, ?cell/s]"
      ]
     },
     "metadata": {},
     "output_type": "display_data"
    },
    {
     "name": "stdout",
     "output_type": "stream",
     "text": [
      "Finished execution for params {'p': 8000, 'n_': 40, 'percent': 2.5}.\n",
      "Results saved to results//experiment_run_8000_40_2.5.ipynb.\n",
      "\n",
      "Running notebook with parameters: {'p': 8000, 'n_': 40, 'percent': 5.0}.\n",
      "Remember that the \"n_\" is not the \"n\"...\n"
     ]
    },
    {
     "data": {
      "application/vnd.jupyter.widget-view+json": {
       "model_id": "6301c755b342402fa2b7cd254e84a22a",
       "version_major": 2,
       "version_minor": 0
      },
      "text/plain": [
       "Executing:   0%|          | 0/45 [00:00<?, ?cell/s]"
      ]
     },
     "metadata": {},
     "output_type": "display_data"
    },
    {
     "name": "stdout",
     "output_type": "stream",
     "text": [
      "Finished execution for params {'p': 8000, 'n_': 40, 'percent': 5.0}.\n",
      "Results saved to results//experiment_run_8000_40_5.0.ipynb.\n",
      "\n",
      "Running notebook with parameters: {'p': 8000, 'n_': 40, 'percent': 10.0}.\n",
      "Remember that the \"n_\" is not the \"n\"...\n"
     ]
    },
    {
     "data": {
      "application/vnd.jupyter.widget-view+json": {
       "model_id": "4eff83671e3a458db3fa752a72fe25ab",
       "version_major": 2,
       "version_minor": 0
      },
      "text/plain": [
       "Executing:   0%|          | 0/45 [00:00<?, ?cell/s]"
      ]
     },
     "metadata": {},
     "output_type": "display_data"
    },
    {
     "name": "stdout",
     "output_type": "stream",
     "text": [
      "Finished execution for params {'p': 8000, 'n_': 40, 'percent': 10.0}.\n",
      "Results saved to results//experiment_run_8000_40_10.0.ipynb.\n",
      "\n",
      "Running notebook with parameters: {'p': 8000, 'n_': 30, 'percent': 1.25}.\n",
      "Remember that the \"n_\" is not the \"n\"...\n"
     ]
    },
    {
     "data": {
      "application/vnd.jupyter.widget-view+json": {
       "model_id": "83b0d8dd149b455e8a069da7bd2f41ce",
       "version_major": 2,
       "version_minor": 0
      },
      "text/plain": [
       "Executing:   0%|          | 0/45 [00:00<?, ?cell/s]"
      ]
     },
     "metadata": {},
     "output_type": "display_data"
    },
    {
     "name": "stdout",
     "output_type": "stream",
     "text": [
      "Finished execution for params {'p': 8000, 'n_': 30, 'percent': 1.25}.\n",
      "Results saved to results//experiment_run_8000_30_1.25.ipynb.\n",
      "\n",
      "Running notebook with parameters: {'p': 8000, 'n_': 30, 'percent': 2.5}.\n",
      "Remember that the \"n_\" is not the \"n\"...\n"
     ]
    },
    {
     "data": {
      "application/vnd.jupyter.widget-view+json": {
       "model_id": "a87c32aea79f4cb886c4dc72e8f57cce",
       "version_major": 2,
       "version_minor": 0
      },
      "text/plain": [
       "Executing:   0%|          | 0/45 [00:00<?, ?cell/s]"
      ]
     },
     "metadata": {},
     "output_type": "display_data"
    },
    {
     "name": "stdout",
     "output_type": "stream",
     "text": [
      "Finished execution for params {'p': 8000, 'n_': 30, 'percent': 2.5}.\n",
      "Results saved to results//experiment_run_8000_30_2.5.ipynb.\n",
      "\n",
      "Running notebook with parameters: {'p': 8000, 'n_': 30, 'percent': 5.0}.\n",
      "Remember that the \"n_\" is not the \"n\"...\n"
     ]
    },
    {
     "data": {
      "application/vnd.jupyter.widget-view+json": {
       "model_id": "eaacb36fba5a4aafb3d244ca0e7a5064",
       "version_major": 2,
       "version_minor": 0
      },
      "text/plain": [
       "Executing:   0%|          | 0/45 [00:00<?, ?cell/s]"
      ]
     },
     "metadata": {},
     "output_type": "display_data"
    },
    {
     "name": "stdout",
     "output_type": "stream",
     "text": [
      "Finished execution for params {'p': 8000, 'n_': 30, 'percent': 5.0}.\n",
      "Results saved to results//experiment_run_8000_30_5.0.ipynb.\n",
      "\n",
      "Running notebook with parameters: {'p': 8000, 'n_': 30, 'percent': 10.0}.\n",
      "Remember that the \"n_\" is not the \"n\"...\n"
     ]
    },
    {
     "data": {
      "application/vnd.jupyter.widget-view+json": {
       "model_id": "979db419060446e0a6d42c45c7076f81",
       "version_major": 2,
       "version_minor": 0
      },
      "text/plain": [
       "Executing:   0%|          | 0/45 [00:00<?, ?cell/s]"
      ]
     },
     "metadata": {},
     "output_type": "display_data"
    },
    {
     "name": "stdout",
     "output_type": "stream",
     "text": [
      "Finished execution for params {'p': 8000, 'n_': 30, 'percent': 10.0}.\n",
      "Results saved to results//experiment_run_8000_30_10.0.ipynb.\n",
      "\n",
      "Running notebook with parameters: {'p': 10000, 'n_': 50, 'percent': 1.25}.\n",
      "Remember that the \"n_\" is not the \"n\"...\n"
     ]
    },
    {
     "data": {
      "application/vnd.jupyter.widget-view+json": {
       "model_id": "26a9dfad3ea14ea3a77bfce7a5fb064c",
       "version_major": 2,
       "version_minor": 0
      },
      "text/plain": [
       "Executing:   0%|          | 0/45 [00:00<?, ?cell/s]"
      ]
     },
     "metadata": {},
     "output_type": "display_data"
    },
    {
     "name": "stdout",
     "output_type": "stream",
     "text": [
      "Finished execution for params {'p': 10000, 'n_': 50, 'percent': 1.25}.\n",
      "Results saved to results//experiment_run_10000_50_1.25.ipynb.\n",
      "\n",
      "Running notebook with parameters: {'p': 10000, 'n_': 50, 'percent': 2.5}.\n",
      "Remember that the \"n_\" is not the \"n\"...\n"
     ]
    },
    {
     "data": {
      "application/vnd.jupyter.widget-view+json": {
       "model_id": "926fd24c9abc4e3d981dc96281087485",
       "version_major": 2,
       "version_minor": 0
      },
      "text/plain": [
       "Executing:   0%|          | 0/45 [00:00<?, ?cell/s]"
      ]
     },
     "metadata": {},
     "output_type": "display_data"
    },
    {
     "name": "stdout",
     "output_type": "stream",
     "text": [
      "Finished execution for params {'p': 10000, 'n_': 50, 'percent': 2.5}.\n",
      "Results saved to results//experiment_run_10000_50_2.5.ipynb.\n",
      "\n",
      "Running notebook with parameters: {'p': 10000, 'n_': 50, 'percent': 5.0}.\n",
      "Remember that the \"n_\" is not the \"n\"...\n"
     ]
    },
    {
     "data": {
      "application/vnd.jupyter.widget-view+json": {
       "model_id": "83aaa0e1945048da84900cf92739e16a",
       "version_major": 2,
       "version_minor": 0
      },
      "text/plain": [
       "Executing:   0%|          | 0/45 [00:00<?, ?cell/s]"
      ]
     },
     "metadata": {},
     "output_type": "display_data"
    },
    {
     "name": "stdout",
     "output_type": "stream",
     "text": [
      "Finished execution for params {'p': 10000, 'n_': 50, 'percent': 5.0}.\n",
      "Results saved to results//experiment_run_10000_50_5.0.ipynb.\n",
      "\n",
      "Running notebook with parameters: {'p': 10000, 'n_': 50, 'percent': 10.0}.\n",
      "Remember that the \"n_\" is not the \"n\"...\n"
     ]
    },
    {
     "data": {
      "application/vnd.jupyter.widget-view+json": {
       "model_id": "ab05559d22b447cf86bdb881be61595c",
       "version_major": 2,
       "version_minor": 0
      },
      "text/plain": [
       "Executing:   0%|          | 0/45 [00:00<?, ?cell/s]"
      ]
     },
     "metadata": {},
     "output_type": "display_data"
    },
    {
     "name": "stdout",
     "output_type": "stream",
     "text": [
      "Finished execution for params {'p': 10000, 'n_': 50, 'percent': 10.0}.\n",
      "Results saved to results//experiment_run_10000_50_10.0.ipynb.\n",
      "\n",
      "Running notebook with parameters: {'p': 10000, 'n_': 40, 'percent': 1.25}.\n",
      "Remember that the \"n_\" is not the \"n\"...\n"
     ]
    },
    {
     "data": {
      "application/vnd.jupyter.widget-view+json": {
       "model_id": "bf5c29b8e93d4614b1840a3a70ab7ff2",
       "version_major": 2,
       "version_minor": 0
      },
      "text/plain": [
       "Executing:   0%|          | 0/45 [00:00<?, ?cell/s]"
      ]
     },
     "metadata": {},
     "output_type": "display_data"
    },
    {
     "name": "stdout",
     "output_type": "stream",
     "text": [
      "Finished execution for params {'p': 10000, 'n_': 40, 'percent': 1.25}.\n",
      "Results saved to results//experiment_run_10000_40_1.25.ipynb.\n",
      "\n",
      "Running notebook with parameters: {'p': 10000, 'n_': 40, 'percent': 2.5}.\n",
      "Remember that the \"n_\" is not the \"n\"...\n"
     ]
    },
    {
     "data": {
      "application/vnd.jupyter.widget-view+json": {
       "model_id": "12e52fad9d4143c5bb483c744f373770",
       "version_major": 2,
       "version_minor": 0
      },
      "text/plain": [
       "Executing:   0%|          | 0/45 [00:00<?, ?cell/s]"
      ]
     },
     "metadata": {},
     "output_type": "display_data"
    },
    {
     "name": "stdout",
     "output_type": "stream",
     "text": [
      "Finished execution for params {'p': 10000, 'n_': 40, 'percent': 2.5}.\n",
      "Results saved to results//experiment_run_10000_40_2.5.ipynb.\n",
      "\n",
      "Running notebook with parameters: {'p': 10000, 'n_': 40, 'percent': 5.0}.\n",
      "Remember that the \"n_\" is not the \"n\"...\n"
     ]
    },
    {
     "data": {
      "application/vnd.jupyter.widget-view+json": {
       "model_id": "b784241bf3be4cffb2f5a6dcea278d88",
       "version_major": 2,
       "version_minor": 0
      },
      "text/plain": [
       "Executing:   0%|          | 0/45 [00:00<?, ?cell/s]"
      ]
     },
     "metadata": {},
     "output_type": "display_data"
    },
    {
     "name": "stdout",
     "output_type": "stream",
     "text": [
      "Finished execution for params {'p': 10000, 'n_': 40, 'percent': 5.0}.\n",
      "Results saved to results//experiment_run_10000_40_5.0.ipynb.\n",
      "\n",
      "Running notebook with parameters: {'p': 10000, 'n_': 40, 'percent': 10.0}.\n",
      "Remember that the \"n_\" is not the \"n\"...\n"
     ]
    },
    {
     "data": {
      "application/vnd.jupyter.widget-view+json": {
       "model_id": "4b009e2a708045268435dbb5ac82cf05",
       "version_major": 2,
       "version_minor": 0
      },
      "text/plain": [
       "Executing:   0%|          | 0/45 [00:00<?, ?cell/s]"
      ]
     },
     "metadata": {},
     "output_type": "display_data"
    },
    {
     "name": "stdout",
     "output_type": "stream",
     "text": [
      "Finished execution for params {'p': 10000, 'n_': 40, 'percent': 10.0}.\n",
      "Results saved to results//experiment_run_10000_40_10.0.ipynb.\n",
      "\n",
      "Running notebook with parameters: {'p': 10000, 'n_': 30, 'percent': 1.25}.\n",
      "Remember that the \"n_\" is not the \"n\"...\n"
     ]
    },
    {
     "data": {
      "application/vnd.jupyter.widget-view+json": {
       "model_id": "70e1ef8cdc4f40bcbe6ce242d19030e4",
       "version_major": 2,
       "version_minor": 0
      },
      "text/plain": [
       "Executing:   0%|          | 0/45 [00:00<?, ?cell/s]"
      ]
     },
     "metadata": {},
     "output_type": "display_data"
    },
    {
     "name": "stdout",
     "output_type": "stream",
     "text": [
      "Finished execution for params {'p': 10000, 'n_': 30, 'percent': 1.25}.\n",
      "Results saved to results//experiment_run_10000_30_1.25.ipynb.\n",
      "\n",
      "Running notebook with parameters: {'p': 10000, 'n_': 30, 'percent': 2.5}.\n",
      "Remember that the \"n_\" is not the \"n\"...\n"
     ]
    },
    {
     "data": {
      "application/vnd.jupyter.widget-view+json": {
       "model_id": "6e86ca0e51bb4a68ad33f39939f453c4",
       "version_major": 2,
       "version_minor": 0
      },
      "text/plain": [
       "Executing:   0%|          | 0/45 [00:00<?, ?cell/s]"
      ]
     },
     "metadata": {},
     "output_type": "display_data"
    },
    {
     "name": "stdout",
     "output_type": "stream",
     "text": [
      "Finished execution for params {'p': 10000, 'n_': 30, 'percent': 2.5}.\n",
      "Results saved to results//experiment_run_10000_30_2.5.ipynb.\n",
      "\n",
      "Running notebook with parameters: {'p': 10000, 'n_': 30, 'percent': 5.0}.\n",
      "Remember that the \"n_\" is not the \"n\"...\n"
     ]
    },
    {
     "data": {
      "application/vnd.jupyter.widget-view+json": {
       "model_id": "191bee988bc84cf5a11f1be8e4aa91d6",
       "version_major": 2,
       "version_minor": 0
      },
      "text/plain": [
       "Executing:   0%|          | 0/45 [00:00<?, ?cell/s]"
      ]
     },
     "metadata": {},
     "output_type": "display_data"
    },
    {
     "name": "stdout",
     "output_type": "stream",
     "text": [
      "Finished execution for params {'p': 10000, 'n_': 30, 'percent': 5.0}.\n",
      "Results saved to results//experiment_run_10000_30_5.0.ipynb.\n",
      "\n",
      "Running notebook with parameters: {'p': 10000, 'n_': 30, 'percent': 10.0}.\n",
      "Remember that the \"n_\" is not the \"n\"...\n"
     ]
    },
    {
     "data": {
      "application/vnd.jupyter.widget-view+json": {
       "model_id": "ed425c2ac42b4e93bac957e32bc4e933",
       "version_major": 2,
       "version_minor": 0
      },
      "text/plain": [
       "Executing:   0%|          | 0/45 [00:00<?, ?cell/s]"
      ]
     },
     "metadata": {},
     "output_type": "display_data"
    },
    {
     "name": "stdout",
     "output_type": "stream",
     "text": [
      "Finished execution for params {'p': 10000, 'n_': 30, 'percent': 10.0}.\n",
      "Results saved to results//experiment_run_10000_30_10.0.ipynb.\n"
     ]
    }
   ],
   "source": [
    "for i, (p, n_, percent) in tqdm(enumerate(parameter_combinations)):\n",
    "    \n",
    "    params = {\"p\": p, \"n_\": n_, \"percent\": percent}\n",
    "    \n",
    "    output_notebook = f\"{output_directory}/experiment_run_{p}_{n_}_{percent}.ipynb\"\n",
    "    \n",
    "    print(f\"\\nRunning notebook with parameters: {params}.\")\n",
    "    print(\"\"\"Remember that the \"n_\" is not the \"n\"...\"\"\")\n",
    "    \n",
    "    pm.execute_notebook(\n",
    "        input_path=input_notebook,\n",
    "        output_path=output_notebook,\n",
    "        parameters=params\n",
    "    )\n",
    "    \n",
    "    print(f\"Finished execution for params {params}.\")\n",
    "    print(f\"Results saved to {output_notebook}.\")"
   ]
  },
  {
   "cell_type": "code",
   "execution_count": null,
   "id": "92983aff",
   "metadata": {},
   "outputs": [],
   "source": []
  }
 ],
 "metadata": {
  "kernelspec": {
   "display_name": "base_env",
   "language": "python",
   "name": "base_env"
  },
  "language_info": {
   "codemirror_mode": {
    "name": "ipython",
    "version": 3
   },
   "file_extension": ".py",
   "mimetype": "text/x-python",
   "name": "python",
   "nbconvert_exporter": "python",
   "pygments_lexer": "ipython3",
   "version": "3.9.20"
  }
 },
 "nbformat": 4,
 "nbformat_minor": 5
}
