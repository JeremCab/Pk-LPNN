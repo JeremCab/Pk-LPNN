{
 "cells": [
  {
   "cell_type": "markdown",
   "id": "ab8eeaa2",
   "metadata": {},
   "source": [
    "# Run experiments `application_Synthetic_2.ipynb`"
   ]
  },
  {
   "cell_type": "code",
   "execution_count": 1,
   "id": "e8c78a2e",
   "metadata": {},
   "outputs": [],
   "source": [
    "from tqdm.notebook import tqdm\n",
    "import papermill as pm\n",
    "from itertools import product"
   ]
  },
  {
   "cell_type": "code",
   "execution_count": 2,
   "id": "048236b0",
   "metadata": {},
   "outputs": [],
   "source": [
    "input_notebook = \"application_Synthetic_2.ipynb\"\n",
    "output_directory = \"results/\""
   ]
  },
  {
   "cell_type": "code",
   "execution_count": 3,
   "id": "c6f4901d",
   "metadata": {},
   "outputs": [],
   "source": [
    "p_values = [1000, 2000, 3000, 4000, 5000]\n",
    "n__values =  [10] # not the real n's (which are computed in the notebook)!\n",
    "percent_relevent_values = [5.0]\n",
    "percent_values = [2.5, 3.75, 5.0, 6.25, 7.5]"
   ]
  },
  {
   "cell_type": "code",
   "execution_count": 4,
   "id": "00da24fb",
   "metadata": {},
   "outputs": [],
   "source": [
    "parameter_combinations = list(product(p_values, n__values, percent_relevent_values, percent_values))\n",
    "# parameter_combinations"
   ]
  },
  {
   "cell_type": "code",
   "execution_count": 5,
   "id": "6148f48c",
   "metadata": {},
   "outputs": [
    {
     "name": "stdout",
     "output_type": "stream",
     "text": [
      "Total number of experiments: 25\n"
     ]
    }
   ],
   "source": [
    "print(f\"Total number of experiments: {len(parameter_combinations)}\")"
   ]
  },
  {
   "cell_type": "code",
   "execution_count": 6,
   "id": "09e22caf",
   "metadata": {
    "scrolled": false
   },
   "outputs": [
    {
     "data": {
      "application/vnd.jupyter.widget-view+json": {
       "model_id": "9d214a593e574f06be30e637c16cba7d",
       "version_major": 2,
       "version_minor": 0
      },
      "text/plain": [
       "0it [00:00, ?it/s]"
      ]
     },
     "metadata": {},
     "output_type": "display_data"
    },
    {
     "name": "stdout",
     "output_type": "stream",
     "text": [
      "\n",
      "Running notebook with parameters: {'p': 1000, 'n_': 10, 'percent_relevent': 5.0, 'percent': 2.5}.\n",
      "Remember that the \"n_\" is not the \"n\"...\n"
     ]
    },
    {
     "data": {
      "application/vnd.jupyter.widget-view+json": {
       "model_id": "ac054d5d75ef4f43865441bf52003e4b",
       "version_major": 2,
       "version_minor": 0
      },
      "text/plain": [
       "Executing:   0%|          | 0/46 [00:00<?, ?cell/s]"
      ]
     },
     "metadata": {},
     "output_type": "display_data"
    },
    {
     "name": "stdout",
     "output_type": "stream",
     "text": [
      "Finished execution for params {'p': 1000, 'n_': 10, 'percent_relevent': 5.0, 'percent': 2.5}.\n",
      "Results saved to results//experiment_run_1000_100_5.0_2.5.ipynb.\n",
      "\n",
      "Running notebook with parameters: {'p': 1000, 'n_': 10, 'percent_relevent': 5.0, 'percent': 3.75}.\n",
      "Remember that the \"n_\" is not the \"n\"...\n"
     ]
    },
    {
     "data": {
      "application/vnd.jupyter.widget-view+json": {
       "model_id": "16c45c1f38374d6db159884348959ff9",
       "version_major": 2,
       "version_minor": 0
      },
      "text/plain": [
       "Executing:   0%|          | 0/46 [00:00<?, ?cell/s]"
      ]
     },
     "metadata": {},
     "output_type": "display_data"
    },
    {
     "name": "stdout",
     "output_type": "stream",
     "text": [
      "Finished execution for params {'p': 1000, 'n_': 10, 'percent_relevent': 5.0, 'percent': 3.75}.\n",
      "Results saved to results//experiment_run_1000_100_5.0_3.75.ipynb.\n",
      "\n",
      "Running notebook with parameters: {'p': 1000, 'n_': 10, 'percent_relevent': 5.0, 'percent': 5.0}.\n",
      "Remember that the \"n_\" is not the \"n\"...\n"
     ]
    },
    {
     "data": {
      "application/vnd.jupyter.widget-view+json": {
       "model_id": "7e396a19b3154dd89f6334161329f9df",
       "version_major": 2,
       "version_minor": 0
      },
      "text/plain": [
       "Executing:   0%|          | 0/46 [00:00<?, ?cell/s]"
      ]
     },
     "metadata": {},
     "output_type": "display_data"
    },
    {
     "name": "stdout",
     "output_type": "stream",
     "text": [
      "Finished execution for params {'p': 1000, 'n_': 10, 'percent_relevent': 5.0, 'percent': 5.0}.\n",
      "Results saved to results//experiment_run_1000_100_5.0_5.0.ipynb.\n",
      "\n",
      "Running notebook with parameters: {'p': 1000, 'n_': 10, 'percent_relevent': 5.0, 'percent': 6.25}.\n",
      "Remember that the \"n_\" is not the \"n\"...\n"
     ]
    },
    {
     "data": {
      "application/vnd.jupyter.widget-view+json": {
       "model_id": "6f56d22b0e2f404f9fae7e161336939e",
       "version_major": 2,
       "version_minor": 0
      },
      "text/plain": [
       "Executing:   0%|          | 0/46 [00:00<?, ?cell/s]"
      ]
     },
     "metadata": {},
     "output_type": "display_data"
    },
    {
     "name": "stdout",
     "output_type": "stream",
     "text": [
      "Finished execution for params {'p': 1000, 'n_': 10, 'percent_relevent': 5.0, 'percent': 6.25}.\n",
      "Results saved to results//experiment_run_1000_100_5.0_6.25.ipynb.\n",
      "\n",
      "Running notebook with parameters: {'p': 1000, 'n_': 10, 'percent_relevent': 5.0, 'percent': 7.5}.\n",
      "Remember that the \"n_\" is not the \"n\"...\n"
     ]
    },
    {
     "data": {
      "application/vnd.jupyter.widget-view+json": {
       "model_id": "9f30ee88a70c47b891f798baba59df47",
       "version_major": 2,
       "version_minor": 0
      },
      "text/plain": [
       "Executing:   0%|          | 0/46 [00:00<?, ?cell/s]"
      ]
     },
     "metadata": {},
     "output_type": "display_data"
    },
    {
     "name": "stdout",
     "output_type": "stream",
     "text": [
      "Finished execution for params {'p': 1000, 'n_': 10, 'percent_relevent': 5.0, 'percent': 7.5}.\n",
      "Results saved to results//experiment_run_1000_100_5.0_7.5.ipynb.\n",
      "\n",
      "Running notebook with parameters: {'p': 2000, 'n_': 10, 'percent_relevent': 5.0, 'percent': 2.5}.\n",
      "Remember that the \"n_\" is not the \"n\"...\n"
     ]
    },
    {
     "data": {
      "application/vnd.jupyter.widget-view+json": {
       "model_id": "70d66a38f43a4624b8ad4848273f04f3",
       "version_major": 2,
       "version_minor": 0
      },
      "text/plain": [
       "Executing:   0%|          | 0/46 [00:00<?, ?cell/s]"
      ]
     },
     "metadata": {},
     "output_type": "display_data"
    },
    {
     "name": "stdout",
     "output_type": "stream",
     "text": [
      "Finished execution for params {'p': 2000, 'n_': 10, 'percent_relevent': 5.0, 'percent': 2.5}.\n",
      "Results saved to results//experiment_run_2000_200_5.0_2.5.ipynb.\n",
      "\n",
      "Running notebook with parameters: {'p': 2000, 'n_': 10, 'percent_relevent': 5.0, 'percent': 3.75}.\n",
      "Remember that the \"n_\" is not the \"n\"...\n"
     ]
    },
    {
     "data": {
      "application/vnd.jupyter.widget-view+json": {
       "model_id": "28a571ea1cc54fa88dfb021ac0775311",
       "version_major": 2,
       "version_minor": 0
      },
      "text/plain": [
       "Executing:   0%|          | 0/46 [00:00<?, ?cell/s]"
      ]
     },
     "metadata": {},
     "output_type": "display_data"
    },
    {
     "name": "stdout",
     "output_type": "stream",
     "text": [
      "Finished execution for params {'p': 2000, 'n_': 10, 'percent_relevent': 5.0, 'percent': 3.75}.\n",
      "Results saved to results//experiment_run_2000_200_5.0_3.75.ipynb.\n",
      "\n",
      "Running notebook with parameters: {'p': 2000, 'n_': 10, 'percent_relevent': 5.0, 'percent': 5.0}.\n",
      "Remember that the \"n_\" is not the \"n\"...\n"
     ]
    },
    {
     "data": {
      "application/vnd.jupyter.widget-view+json": {
       "model_id": "38c85b12f184480085c3f9b191d3c4cb",
       "version_major": 2,
       "version_minor": 0
      },
      "text/plain": [
       "Executing:   0%|          | 0/46 [00:00<?, ?cell/s]"
      ]
     },
     "metadata": {},
     "output_type": "display_data"
    },
    {
     "name": "stdout",
     "output_type": "stream",
     "text": [
      "Finished execution for params {'p': 2000, 'n_': 10, 'percent_relevent': 5.0, 'percent': 5.0}.\n",
      "Results saved to results//experiment_run_2000_200_5.0_5.0.ipynb.\n",
      "\n",
      "Running notebook with parameters: {'p': 2000, 'n_': 10, 'percent_relevent': 5.0, 'percent': 6.25}.\n",
      "Remember that the \"n_\" is not the \"n\"...\n"
     ]
    },
    {
     "data": {
      "application/vnd.jupyter.widget-view+json": {
       "model_id": "3ef43f5ad3724376a6c5a52f38d508f2",
       "version_major": 2,
       "version_minor": 0
      },
      "text/plain": [
       "Executing:   0%|          | 0/46 [00:00<?, ?cell/s]"
      ]
     },
     "metadata": {},
     "output_type": "display_data"
    },
    {
     "name": "stdout",
     "output_type": "stream",
     "text": [
      "Finished execution for params {'p': 2000, 'n_': 10, 'percent_relevent': 5.0, 'percent': 6.25}.\n",
      "Results saved to results//experiment_run_2000_200_5.0_6.25.ipynb.\n",
      "\n",
      "Running notebook with parameters: {'p': 2000, 'n_': 10, 'percent_relevent': 5.0, 'percent': 7.5}.\n",
      "Remember that the \"n_\" is not the \"n\"...\n"
     ]
    },
    {
     "data": {
      "application/vnd.jupyter.widget-view+json": {
       "model_id": "f4c63ba7930c408cb2edf81766aa9d49",
       "version_major": 2,
       "version_minor": 0
      },
      "text/plain": [
       "Executing:   0%|          | 0/46 [00:00<?, ?cell/s]"
      ]
     },
     "metadata": {},
     "output_type": "display_data"
    },
    {
     "name": "stdout",
     "output_type": "stream",
     "text": [
      "Finished execution for params {'p': 2000, 'n_': 10, 'percent_relevent': 5.0, 'percent': 7.5}.\n",
      "Results saved to results//experiment_run_2000_200_5.0_7.5.ipynb.\n",
      "\n",
      "Running notebook with parameters: {'p': 3000, 'n_': 10, 'percent_relevent': 5.0, 'percent': 2.5}.\n",
      "Remember that the \"n_\" is not the \"n\"...\n"
     ]
    },
    {
     "data": {
      "application/vnd.jupyter.widget-view+json": {
       "model_id": "bf17687c2bdb4a69813b436c8b549120",
       "version_major": 2,
       "version_minor": 0
      },
      "text/plain": [
       "Executing:   0%|          | 0/46 [00:00<?, ?cell/s]"
      ]
     },
     "metadata": {},
     "output_type": "display_data"
    },
    {
     "name": "stdout",
     "output_type": "stream",
     "text": [
      "Finished execution for params {'p': 3000, 'n_': 10, 'percent_relevent': 5.0, 'percent': 2.5}.\n",
      "Results saved to results//experiment_run_3000_300_5.0_2.5.ipynb.\n",
      "\n",
      "Running notebook with parameters: {'p': 3000, 'n_': 10, 'percent_relevent': 5.0, 'percent': 3.75}.\n",
      "Remember that the \"n_\" is not the \"n\"...\n"
     ]
    },
    {
     "data": {
      "application/vnd.jupyter.widget-view+json": {
       "model_id": "4bf0e59a3a544331a388aab08d40ea32",
       "version_major": 2,
       "version_minor": 0
      },
      "text/plain": [
       "Executing:   0%|          | 0/46 [00:00<?, ?cell/s]"
      ]
     },
     "metadata": {},
     "output_type": "display_data"
    },
    {
     "name": "stdout",
     "output_type": "stream",
     "text": [
      "Finished execution for params {'p': 3000, 'n_': 10, 'percent_relevent': 5.0, 'percent': 3.75}.\n",
      "Results saved to results//experiment_run_3000_300_5.0_3.75.ipynb.\n",
      "\n",
      "Running notebook with parameters: {'p': 3000, 'n_': 10, 'percent_relevent': 5.0, 'percent': 5.0}.\n",
      "Remember that the \"n_\" is not the \"n\"...\n"
     ]
    },
    {
     "data": {
      "application/vnd.jupyter.widget-view+json": {
       "model_id": "b2a38bd3163a45728ce2a001a6e33f26",
       "version_major": 2,
       "version_minor": 0
      },
      "text/plain": [
       "Executing:   0%|          | 0/46 [00:00<?, ?cell/s]"
      ]
     },
     "metadata": {},
     "output_type": "display_data"
    },
    {
     "name": "stdout",
     "output_type": "stream",
     "text": [
      "Finished execution for params {'p': 3000, 'n_': 10, 'percent_relevent': 5.0, 'percent': 5.0}.\n",
      "Results saved to results//experiment_run_3000_300_5.0_5.0.ipynb.\n",
      "\n",
      "Running notebook with parameters: {'p': 3000, 'n_': 10, 'percent_relevent': 5.0, 'percent': 6.25}.\n",
      "Remember that the \"n_\" is not the \"n\"...\n"
     ]
    },
    {
     "data": {
      "application/vnd.jupyter.widget-view+json": {
       "model_id": "c0298ac8233b4ea6bef5a7fabf92cb7c",
       "version_major": 2,
       "version_minor": 0
      },
      "text/plain": [
       "Executing:   0%|          | 0/46 [00:00<?, ?cell/s]"
      ]
     },
     "metadata": {},
     "output_type": "display_data"
    },
    {
     "name": "stdout",
     "output_type": "stream",
     "text": [
      "Finished execution for params {'p': 3000, 'n_': 10, 'percent_relevent': 5.0, 'percent': 6.25}.\n",
      "Results saved to results//experiment_run_3000_300_5.0_6.25.ipynb.\n",
      "\n",
      "Running notebook with parameters: {'p': 3000, 'n_': 10, 'percent_relevent': 5.0, 'percent': 7.5}.\n",
      "Remember that the \"n_\" is not the \"n\"...\n"
     ]
    },
    {
     "data": {
      "application/vnd.jupyter.widget-view+json": {
       "model_id": "4ce7b331a46a47a69aca08dd3d1ac01d",
       "version_major": 2,
       "version_minor": 0
      },
      "text/plain": [
       "Executing:   0%|          | 0/46 [00:00<?, ?cell/s]"
      ]
     },
     "metadata": {},
     "output_type": "display_data"
    },
    {
     "name": "stdout",
     "output_type": "stream",
     "text": [
      "Finished execution for params {'p': 3000, 'n_': 10, 'percent_relevent': 5.0, 'percent': 7.5}.\n",
      "Results saved to results//experiment_run_3000_300_5.0_7.5.ipynb.\n",
      "\n",
      "Running notebook with parameters: {'p': 4000, 'n_': 10, 'percent_relevent': 5.0, 'percent': 2.5}.\n",
      "Remember that the \"n_\" is not the \"n\"...\n"
     ]
    },
    {
     "data": {
      "application/vnd.jupyter.widget-view+json": {
       "model_id": "73fef035189b49928648d85c718e681a",
       "version_major": 2,
       "version_minor": 0
      },
      "text/plain": [
       "Executing:   0%|          | 0/46 [00:00<?, ?cell/s]"
      ]
     },
     "metadata": {},
     "output_type": "display_data"
    },
    {
     "name": "stdout",
     "output_type": "stream",
     "text": [
      "Finished execution for params {'p': 4000, 'n_': 10, 'percent_relevent': 5.0, 'percent': 2.5}.\n",
      "Results saved to results//experiment_run_4000_400_5.0_2.5.ipynb.\n",
      "\n",
      "Running notebook with parameters: {'p': 4000, 'n_': 10, 'percent_relevent': 5.0, 'percent': 3.75}.\n",
      "Remember that the \"n_\" is not the \"n\"...\n"
     ]
    },
    {
     "data": {
      "application/vnd.jupyter.widget-view+json": {
       "model_id": "1832230de63a460e9c9af6c30508d199",
       "version_major": 2,
       "version_minor": 0
      },
      "text/plain": [
       "Executing:   0%|          | 0/46 [00:00<?, ?cell/s]"
      ]
     },
     "metadata": {},
     "output_type": "display_data"
    },
    {
     "name": "stdout",
     "output_type": "stream",
     "text": [
      "Finished execution for params {'p': 4000, 'n_': 10, 'percent_relevent': 5.0, 'percent': 3.75}.\n",
      "Results saved to results//experiment_run_4000_400_5.0_3.75.ipynb.\n",
      "\n",
      "Running notebook with parameters: {'p': 4000, 'n_': 10, 'percent_relevent': 5.0, 'percent': 5.0}.\n",
      "Remember that the \"n_\" is not the \"n\"...\n"
     ]
    },
    {
     "data": {
      "application/vnd.jupyter.widget-view+json": {
       "model_id": "b17e22ad47d6447f9f7477adccde1e91",
       "version_major": 2,
       "version_minor": 0
      },
      "text/plain": [
       "Executing:   0%|          | 0/46 [00:00<?, ?cell/s]"
      ]
     },
     "metadata": {},
     "output_type": "display_data"
    },
    {
     "name": "stdout",
     "output_type": "stream",
     "text": [
      "Finished execution for params {'p': 4000, 'n_': 10, 'percent_relevent': 5.0, 'percent': 5.0}.\n",
      "Results saved to results//experiment_run_4000_400_5.0_5.0.ipynb.\n",
      "\n",
      "Running notebook with parameters: {'p': 4000, 'n_': 10, 'percent_relevent': 5.0, 'percent': 6.25}.\n",
      "Remember that the \"n_\" is not the \"n\"...\n"
     ]
    },
    {
     "data": {
      "application/vnd.jupyter.widget-view+json": {
       "model_id": "9e463c7f97e74fb682e2b34dc05b5c4f",
       "version_major": 2,
       "version_minor": 0
      },
      "text/plain": [
       "Executing:   0%|          | 0/46 [00:00<?, ?cell/s]"
      ]
     },
     "metadata": {},
     "output_type": "display_data"
    },
    {
     "name": "stdout",
     "output_type": "stream",
     "text": [
      "Finished execution for params {'p': 4000, 'n_': 10, 'percent_relevent': 5.0, 'percent': 6.25}.\n",
      "Results saved to results//experiment_run_4000_400_5.0_6.25.ipynb.\n",
      "\n",
      "Running notebook with parameters: {'p': 4000, 'n_': 10, 'percent_relevent': 5.0, 'percent': 7.5}.\n",
      "Remember that the \"n_\" is not the \"n\"...\n"
     ]
    },
    {
     "data": {
      "application/vnd.jupyter.widget-view+json": {
       "model_id": "889aa9f78b8447509754355dc348dadc",
       "version_major": 2,
       "version_minor": 0
      },
      "text/plain": [
       "Executing:   0%|          | 0/46 [00:00<?, ?cell/s]"
      ]
     },
     "metadata": {},
     "output_type": "display_data"
    },
    {
     "name": "stdout",
     "output_type": "stream",
     "text": [
      "Finished execution for params {'p': 4000, 'n_': 10, 'percent_relevent': 5.0, 'percent': 7.5}.\n",
      "Results saved to results//experiment_run_4000_400_5.0_7.5.ipynb.\n",
      "\n",
      "Running notebook with parameters: {'p': 5000, 'n_': 10, 'percent_relevent': 5.0, 'percent': 2.5}.\n",
      "Remember that the \"n_\" is not the \"n\"...\n"
     ]
    },
    {
     "data": {
      "application/vnd.jupyter.widget-view+json": {
       "model_id": "9ba087846e57410ba53433f981a98bc7",
       "version_major": 2,
       "version_minor": 0
      },
      "text/plain": [
       "Executing:   0%|          | 0/46 [00:00<?, ?cell/s]"
      ]
     },
     "metadata": {},
     "output_type": "display_data"
    },
    {
     "name": "stdout",
     "output_type": "stream",
     "text": [
      "Finished execution for params {'p': 5000, 'n_': 10, 'percent_relevent': 5.0, 'percent': 2.5}.\n",
      "Results saved to results//experiment_run_5000_500_5.0_2.5.ipynb.\n",
      "\n",
      "Running notebook with parameters: {'p': 5000, 'n_': 10, 'percent_relevent': 5.0, 'percent': 3.75}.\n",
      "Remember that the \"n_\" is not the \"n\"...\n"
     ]
    },
    {
     "data": {
      "application/vnd.jupyter.widget-view+json": {
       "model_id": "ba5b4a31df324481a27b03c360fa6399",
       "version_major": 2,
       "version_minor": 0
      },
      "text/plain": [
       "Executing:   0%|          | 0/46 [00:00<?, ?cell/s]"
      ]
     },
     "metadata": {},
     "output_type": "display_data"
    },
    {
     "name": "stdout",
     "output_type": "stream",
     "text": [
      "Finished execution for params {'p': 5000, 'n_': 10, 'percent_relevent': 5.0, 'percent': 3.75}.\n",
      "Results saved to results//experiment_run_5000_500_5.0_3.75.ipynb.\n",
      "\n",
      "Running notebook with parameters: {'p': 5000, 'n_': 10, 'percent_relevent': 5.0, 'percent': 5.0}.\n",
      "Remember that the \"n_\" is not the \"n\"...\n"
     ]
    },
    {
     "data": {
      "application/vnd.jupyter.widget-view+json": {
       "model_id": "cf01ee0fb8fe4e29aa2c2eb89135cd9c",
       "version_major": 2,
       "version_minor": 0
      },
      "text/plain": [
       "Executing:   0%|          | 0/46 [00:00<?, ?cell/s]"
      ]
     },
     "metadata": {},
     "output_type": "display_data"
    },
    {
     "name": "stdout",
     "output_type": "stream",
     "text": [
      "Finished execution for params {'p': 5000, 'n_': 10, 'percent_relevent': 5.0, 'percent': 5.0}.\n",
      "Results saved to results//experiment_run_5000_500_5.0_5.0.ipynb.\n",
      "\n",
      "Running notebook with parameters: {'p': 5000, 'n_': 10, 'percent_relevent': 5.0, 'percent': 6.25}.\n",
      "Remember that the \"n_\" is not the \"n\"...\n"
     ]
    },
    {
     "data": {
      "application/vnd.jupyter.widget-view+json": {
       "model_id": "7fb9f222583b42049b7e814953ff0cf6",
       "version_major": 2,
       "version_minor": 0
      },
      "text/plain": [
       "Executing:   0%|          | 0/46 [00:00<?, ?cell/s]"
      ]
     },
     "metadata": {},
     "output_type": "display_data"
    },
    {
     "name": "stdout",
     "output_type": "stream",
     "text": [
      "Finished execution for params {'p': 5000, 'n_': 10, 'percent_relevent': 5.0, 'percent': 6.25}.\n",
      "Results saved to results//experiment_run_5000_500_5.0_6.25.ipynb.\n",
      "\n",
      "Running notebook with parameters: {'p': 5000, 'n_': 10, 'percent_relevent': 5.0, 'percent': 7.5}.\n",
      "Remember that the \"n_\" is not the \"n\"...\n"
     ]
    },
    {
     "data": {
      "application/vnd.jupyter.widget-view+json": {
       "model_id": "e8c8ca4688844ddfb5bbd081f733ac8c",
       "version_major": 2,
       "version_minor": 0
      },
      "text/plain": [
       "Executing:   0%|          | 0/46 [00:00<?, ?cell/s]"
      ]
     },
     "metadata": {},
     "output_type": "display_data"
    },
    {
     "name": "stdout",
     "output_type": "stream",
     "text": [
      "Finished execution for params {'p': 5000, 'n_': 10, 'percent_relevent': 5.0, 'percent': 7.5}.\n",
      "Results saved to results//experiment_run_5000_500_5.0_7.5.ipynb.\n"
     ]
    }
   ],
   "source": [
    "for i, (p, n_, percent_relevant, percent) in tqdm(enumerate(parameter_combinations)):\n",
    "    \n",
    "    params = {\"p\": p, \"n_\": n_, \"percent_relevent\": percent_relevant, \"percent\": percent}\n",
    "    \n",
    "    output_notebook = f\"{output_directory}/experiment_run_{p}_{p // n_}_{percent_relevant}_{percent}.ipynb\"\n",
    "    \n",
    "    print(f\"\\nRunning notebook with parameters: {params}.\")\n",
    "    print(\"\"\"Remember that the \"n_\" is not the \"n\"...\"\"\")\n",
    "    \n",
    "    pm.execute_notebook(\n",
    "        input_path=input_notebook,\n",
    "        output_path=output_notebook,\n",
    "        parameters=params\n",
    "    )\n",
    "    \n",
    "    print(f\"Finished execution for params {params}.\")\n",
    "    print(f\"Results saved to {output_notebook}.\")"
   ]
  },
  {
   "cell_type": "code",
   "execution_count": null,
   "id": "92983aff",
   "metadata": {},
   "outputs": [],
   "source": []
  }
 ],
 "metadata": {
  "kernelspec": {
   "display_name": "base_env",
   "language": "python",
   "name": "base_env"
  },
  "language_info": {
   "codemirror_mode": {
    "name": "ipython",
    "version": 3
   },
   "file_extension": ".py",
   "mimetype": "text/x-python",
   "name": "python",
   "nbconvert_exporter": "python",
   "pygments_lexer": "ipython3",
   "version": "3.9.20"
  }
 },
 "nbformat": 4,
 "nbformat_minor": 5
}
