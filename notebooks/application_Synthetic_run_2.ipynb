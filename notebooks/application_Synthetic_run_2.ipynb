{
 "cells": [
  {
   "cell_type": "markdown",
   "id": "ab8eeaa2",
   "metadata": {},
   "source": [
    "# Run experiments `application_Synthetic_2.ipynb`"
   ]
  },
  {
   "cell_type": "code",
   "execution_count": 1,
   "id": "e8c78a2e",
   "metadata": {},
   "outputs": [],
   "source": [
    "from tqdm.notebook import tqdm\n",
    "import papermill as pm\n",
    "from itertools import product"
   ]
  },
  {
   "cell_type": "code",
   "execution_count": 2,
   "id": "048236b0",
   "metadata": {},
   "outputs": [],
   "source": [
    "input_notebook = \"application_Synthetic_2.ipynb\"\n",
    "output_directory = \"results/\""
   ]
  },
  {
   "cell_type": "code",
   "execution_count": 3,
   "id": "c6f4901d",
   "metadata": {},
   "outputs": [],
   "source": [
    "p_values = [1000, 2000, 3000, 4000, 5000]\n",
    "n__values =  [10] # not the real n's (which are computed in the notebook)!\n",
    "percent_relevent_values = [5.0]\n",
    "percent_values = [2.5, 3.75, 5.0, 6.25, 7.5]"
   ]
  },
  {
   "cell_type": "code",
   "execution_count": 4,
   "id": "00da24fb",
   "metadata": {},
   "outputs": [],
   "source": [
    "parameter_combinations = list(product(p_values, n__values, percent_relevent_values, percent_values))\n",
    "# parameter_combinations"
   ]
  },
  {
   "cell_type": "code",
   "execution_count": 5,
   "id": "6148f48c",
   "metadata": {},
   "outputs": [
    {
     "name": "stdout",
     "output_type": "stream",
     "text": [
      "Total number of experiments: 25\n"
     ]
    }
   ],
   "source": [
    "print(f\"Total number of experiments: {len(parameter_combinations)}\")"
   ]
  },
  {
   "cell_type": "code",
   "execution_count": null,
   "id": "09e22caf",
   "metadata": {
    "scrolled": false
   },
   "outputs": [
    {
     "data": {
      "application/vnd.jupyter.widget-view+json": {
       "model_id": "9d214a593e574f06be30e637c16cba7d",
       "version_major": 2,
       "version_minor": 0
      },
      "text/plain": [
       "0it [00:00, ?it/s]"
      ]
     },
     "metadata": {},
     "output_type": "display_data"
    },
    {
     "name": "stdout",
     "output_type": "stream",
     "text": [
      "\n",
      "Running notebook with parameters: {'p': 1000, 'n_': 10, 'percent_relevent': 5.0, 'percent': 2.5}.\n",
      "Remember that the \"n_\" is not the \"n\"...\n"
     ]
    },
    {
     "data": {
      "application/vnd.jupyter.widget-view+json": {
       "model_id": "ac054d5d75ef4f43865441bf52003e4b",
       "version_major": 2,
       "version_minor": 0
      },
      "text/plain": [
       "Executing:   0%|          | 0/46 [00:00<?, ?cell/s]"
      ]
     },
     "metadata": {},
     "output_type": "display_data"
    },
    {
     "name": "stdout",
     "output_type": "stream",
     "text": [
      "Finished execution for params {'p': 1000, 'n_': 10, 'percent_relevent': 5.0, 'percent': 2.5}.\n",
      "Results saved to results//experiment_run_1000_100_5.0_2.5.ipynb.\n",
      "\n",
      "Running notebook with parameters: {'p': 1000, 'n_': 10, 'percent_relevent': 5.0, 'percent': 3.75}.\n",
      "Remember that the \"n_\" is not the \"n\"...\n"
     ]
    },
    {
     "data": {
      "application/vnd.jupyter.widget-view+json": {
       "model_id": "16c45c1f38374d6db159884348959ff9",
       "version_major": 2,
       "version_minor": 0
      },
      "text/plain": [
       "Executing:   0%|          | 0/46 [00:00<?, ?cell/s]"
      ]
     },
     "metadata": {},
     "output_type": "display_data"
    },
    {
     "name": "stdout",
     "output_type": "stream",
     "text": [
      "Finished execution for params {'p': 1000, 'n_': 10, 'percent_relevent': 5.0, 'percent': 3.75}.\n",
      "Results saved to results//experiment_run_1000_100_5.0_3.75.ipynb.\n",
      "\n",
      "Running notebook with parameters: {'p': 1000, 'n_': 10, 'percent_relevent': 5.0, 'percent': 5.0}.\n",
      "Remember that the \"n_\" is not the \"n\"...\n"
     ]
    },
    {
     "data": {
      "application/vnd.jupyter.widget-view+json": {
       "model_id": "7e396a19b3154dd89f6334161329f9df",
       "version_major": 2,
       "version_minor": 0
      },
      "text/plain": [
       "Executing:   0%|          | 0/46 [00:00<?, ?cell/s]"
      ]
     },
     "metadata": {},
     "output_type": "display_data"
    }
   ],
   "source": [
    "for i, (p, n_, percent_relevant, percent) in tqdm(enumerate(parameter_combinations)):\n",
    "    \n",
    "    params = {\"p\": p, \"n_\": n_, \"percent_relevent\": percent_relevant, \"percent\": percent}\n",
    "    \n",
    "    output_notebook = f\"{output_directory}/experiment_run_{p}_{p // n_}_{percent_relevant}_{percent}.ipynb\"\n",
    "    \n",
    "    print(f\"\\nRunning notebook with parameters: {params}.\")\n",
    "    print(\"\"\"Remember that the \"n_\" is not the \"n\"...\"\"\")\n",
    "    \n",
    "    pm.execute_notebook(\n",
    "        input_path=input_notebook,\n",
    "        output_path=output_notebook,\n",
    "        parameters=params\n",
    "    )\n",
    "    \n",
    "    print(f\"Finished execution for params {params}.\")\n",
    "    print(f\"Results saved to {output_notebook}.\")"
   ]
  },
  {
   "cell_type": "code",
   "execution_count": null,
   "id": "92983aff",
   "metadata": {},
   "outputs": [],
   "source": []
  }
 ],
 "metadata": {
  "kernelspec": {
   "display_name": "base_env",
   "language": "python",
   "name": "base_env"
  },
  "language_info": {
   "codemirror_mode": {
    "name": "ipython",
    "version": 3
   },
   "file_extension": ".py",
   "mimetype": "text/x-python",
   "name": "python",
   "nbconvert_exporter": "python",
   "pygments_lexer": "ipython3",
   "version": "3.9.20"
  }
 },
 "nbformat": 4,
 "nbformat_minor": 5
}
