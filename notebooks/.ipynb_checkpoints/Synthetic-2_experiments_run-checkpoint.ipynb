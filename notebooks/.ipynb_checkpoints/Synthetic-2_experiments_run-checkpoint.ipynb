{
 "cells": [
  {
   "cell_type": "markdown",
   "id": "ab8eeaa2",
   "metadata": {},
   "source": [
    "# Run experiments `application_Synthetic_2.ipynb`"
   ]
  },
  {
   "cell_type": "markdown",
   "id": "f262ba24-6c30-4062-a44c-b2c442ece08d",
   "metadata": {
    "jp-MarkdownHeadingCollapsed": true
   },
   "source": [
    "## Librairies"
   ]
  },
  {
   "cell_type": "code",
   "execution_count": null,
   "id": "e8c78a2e",
   "metadata": {},
   "outputs": [],
   "source": [
    "from tqdm.notebook import tqdm\n",
    "import papermill as pm\n",
    "from itertools import product"
   ]
  },
  {
   "cell_type": "markdown",
   "id": "750abc33-a0da-4912-b3e6-0c97f5aab3f8",
   "metadata": {
    "jp-MarkdownHeadingCollapsed": true
   },
   "source": [
    "## Run experiments"
   ]
  },
  {
   "cell_type": "code",
   "execution_count": null,
   "id": "048236b0",
   "metadata": {},
   "outputs": [],
   "source": [
    "input_notebook = \"application_Synthetic_2.ipynb\"\n",
    "output_directory = \"results/\""
   ]
  },
  {
   "cell_type": "code",
   "execution_count": null,
   "id": "c6f4901d",
   "metadata": {},
   "outputs": [],
   "source": [
    "p_values = [1000, 2000, 3000, 4000, 5000]\n",
    "n__values =  [10] # not the real n's (which are computed in the notebook)!\n",
    "percent_relevent_values = [5.0]\n",
    "percent_values = [2.5, 3.75, 5.0, 6.25, 7.5]"
   ]
  },
  {
   "cell_type": "code",
   "execution_count": null,
   "id": "00da24fb",
   "metadata": {},
   "outputs": [],
   "source": [
    "parameter_combinations = list(product(p_values, n__values, percent_relevent_values, percent_values))\n",
    "# parameter_combinations"
   ]
  },
  {
   "cell_type": "code",
   "execution_count": null,
   "id": "6148f48c",
   "metadata": {},
   "outputs": [],
   "source": [
    "print(f\"Total number of experiments: {len(parameter_combinations)}\")"
   ]
  },
  {
   "cell_type": "code",
   "execution_count": null,
   "id": "09e22caf",
   "metadata": {},
   "outputs": [],
   "source": [
    "for i, (p, n_, percent_relevant, percent) in tqdm(enumerate(parameter_combinations)):\n",
    "    \n",
    "    params = {\"p\": p, \"n_\": n_, \"percent_relevent\": percent_relevant, \"percent\": percent}\n",
    "    \n",
    "    output_notebook = f\"{output_directory}/experiment_run_{p}_{p // n_}_{percent_relevant}_{percent}.ipynb\"\n",
    "    \n",
    "    print(f\"\\nRunning notebook with parameters: {params}.\")\n",
    "    print(\"\"\"Remember that the \"n_\" is not the \"n\"...\"\"\")\n",
    "    \n",
    "    pm.execute_notebook(\n",
    "        input_path=input_notebook,\n",
    "        output_path=output_notebook,\n",
    "        parameters=params\n",
    "    )\n",
    "    \n",
    "    print(f\"Finished execution for params {params}.\")\n",
    "    print(f\"Results saved to {output_notebook}.\")"
   ]
  },
  {
   "cell_type": "code",
   "execution_count": null,
   "id": "92983aff",
   "metadata": {},
   "outputs": [],
   "source": []
  }
 ],
 "metadata": {
  "kernelspec": {
   "display_name": "Python (.venv)",
   "language": "python",
   "name": ".venv"
  },
  "language_info": {
   "codemirror_mode": {
    "name": "ipython",
    "version": 3
   },
   "file_extension": ".py",
   "mimetype": "text/x-python",
   "name": "python",
   "nbconvert_exporter": "python",
   "pygments_lexer": "ipython3",
   "version": "3.13.1"
  }
 },
 "nbformat": 4,
 "nbformat_minor": 5
}
