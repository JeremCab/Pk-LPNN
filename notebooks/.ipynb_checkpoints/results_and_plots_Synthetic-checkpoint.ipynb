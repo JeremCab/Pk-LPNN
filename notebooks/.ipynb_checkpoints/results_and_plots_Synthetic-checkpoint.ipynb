{
 "cells": [
  {
   "cell_type": "markdown",
   "id": "448ee0fa-51c7-43aa-92f0-cdb2b7e83ae2",
   "metadata": {},
   "source": [
    "# Read results"
   ]
  },
  {
   "cell_type": "markdown",
   "id": "faaea4a0-e904-4232-96c5-15dc4daabf8c",
   "metadata": {
    "jp-MarkdownHeadingCollapsed": true
   },
   "source": [
    "## Librairies"
   ]
  },
  {
   "cell_type": "code",
   "execution_count": null,
   "id": "95e8596c-9ae5-4824-bb87-25b2bdc7c5b2",
   "metadata": {},
   "outputs": [],
   "source": [
    "import os\n",
    "import pickle\n",
    "import matplotlib.pyplot as plt\n",
    "import pandas as pd\n",
    "import numpy as np"
   ]
  },
  {
   "cell_type": "markdown",
   "id": "180defd1-de2a-4bdd-9576-341e6f058c3a",
   "metadata": {
    "jp-MarkdownHeadingCollapsed": true
   },
   "source": [
    "## Parameters "
   ]
  },
  {
   "cell_type": "code",
   "execution_count": null,
   "id": "21d33d77-ce33-432c-918b-4cc67da2e45a",
   "metadata": {},
   "outputs": [],
   "source": [
    "cwd = os.getcwd()"
   ]
  },
  {
   "cell_type": "code",
   "execution_count": null,
   "id": "8d6c30f4-a495-4fe2-b1d0-b05e49c329b0",
   "metadata": {},
   "outputs": [],
   "source": [
    "path = \"../results/Synthetic/\""
   ]
  },
  {
   "cell_type": "code",
   "execution_count": null,
   "id": "6c020a27-d51f-461c-931f-420df41baaf6",
   "metadata": {},
   "outputs": [],
   "source": [
    "# === Choose p for which results are to be computed ===\n",
    "p_values = [1000] # 2000, 3000, 4000\n",
    "n__values =  [10]\n",
    "\n",
    "# percent_relevent_values = [4.6] # 4.25\n",
    "percent_relevent_values = [n__values[0] / np.log(p_values[0]) * 3.5]\n",
    "\n",
    "percent_values = [1.25, 2.5, 3.75, 5.0]#, 6.25, 7.5]"
   ]
  },
  {
   "cell_type": "markdown",
   "id": "80d610e7-7d9c-46c0-b320-d02a69b3847a",
   "metadata": {
    "jp-MarkdownHeadingCollapsed": true
   },
   "source": [
    "## Get scores "
   ]
  },
  {
   "cell_type": "code",
   "execution_count": null,
   "id": "8377023d-73d3-4aba-ae39-34049a08a915",
   "metadata": {},
   "outputs": [],
   "source": [
    "results_d = {}\n",
    "\n",
    "# level 1\n",
    "for p in p_values:\n",
    "\n",
    "    results_folder = os.path.join(path, f\"synthetic_data_{p}\")\n",
    "    \n",
    "\n",
    "    ns = [int(p//n_) for n_ in n__values]\n",
    "    nzs = [int(p*percent//100) for percent in percent_values]\n",
    "    nrs = [int(p*percent//100) for percent in percent_relevent_values]\n",
    "\n",
    "    fts_modes = [\"full\", \"random\", \"k-best\", \"lasso\", \"pk-lpnn\"]#XXXXXX\n",
    "    models = [\"knn\", \"lr\", \"nb-gaussian\"] #XXXXXX\n",
    "        \n",
    "    results_d[p] = {}\n",
    "    \n",
    "    # level 2\n",
    "    for n in ns:\n",
    "        \n",
    "        results_d[p][n] = {}\n",
    "        nr = nrs[0]  # XXX\n",
    "        \n",
    "        # level 3\n",
    "        for nz in nzs:\n",
    "\n",
    "            results_d[p][n][nz] = {}\n",
    "            \n",
    "            for fts_mode in fts_modes:\n",
    "\n",
    "                results_d[p][n][nz][fts_mode] = {}\n",
    "\n",
    "                for model in models:\n",
    "\n",
    "                    with open( os.path.join(results_folder, f\"{n}\", f\"{nz}\", f\"{fts_mode}_{nz}_{model}.pkl\"), \"rb\" ) as fh: #XXXXX\n",
    "\n",
    "                        results = pickle.load(fh)\n",
    "                        f1 = np.mean(results[\"f1\"]).round(3)\n",
    "                        b_acc = np.mean(results[\"b_acc\"]).round(3)\n",
    "                        # print(\"f1: \", f1, \"b_acc: \", b_acc)\n",
    "\n",
    "                        results_d[p][n][nz][fts_mode][model] = (f1, b_acc)"
   ]
  },
  {
   "cell_type": "code",
   "execution_count": null,
   "id": "63a4bc29-e66e-4de3-a386-4557ea55403a",
   "metadata": {},
   "outputs": [],
   "source": [
    "# results_d"
   ]
  },
  {
   "cell_type": "markdown",
   "id": "a3fa13ef-1e27-40a0-aa02-f2eeb18b844e",
   "metadata": {
    "jp-MarkdownHeadingCollapsed": true
   },
   "source": [
    "## Scores tables"
   ]
  },
  {
   "cell_type": "code",
   "execution_count": null,
   "id": "86e5e537-6632-41d5-a2f0-c57c7ed26025",
   "metadata": {},
   "outputs": [],
   "source": [
    "results_df = {}\n",
    "\n",
    "for p in p_values:\n",
    "    \n",
    "    print(\"****************\")\n",
    "    print(f\"*** p = {p} ***\")\n",
    "    print(\"****************\\n\")\n",
    "    \n",
    "    ns = [int(p//n_) for n_ in n__values]\n",
    "    nzs = [int(p*percent//100) for percent in percent_values]\n",
    "    nrs = [int(p*percent//100) for percent in percent_relevent_values]\n",
    "    \n",
    "    results_df[p] = {}\n",
    "    \n",
    "    for n in ns:\n",
    "        \n",
    "        results_df[p][n] = {}\n",
    "        nr = nrs[0]  # XXX\n",
    "\n",
    "        for nz in nzs:\n",
    "\n",
    "            results_df[p][n][nz] = pd.DataFrame.from_dict(results_d[p][n][nz], orient='index')\n",
    "            print(f\"*** n = {n}, nb_relevant = {nr} ({n}_{nr}), N_z = {nz} ***\")\n",
    "            display(results_df[p][n][nz])\n",
    "            print(results_df[p][n][nz].to_latex(bold_rows=True, \n",
    "                                                column_format=\"l | ccc\", \n",
    "                                               )\n",
    "                 ) # latex code\n",
    "            print(\"\\n\")"
   ]
  },
  {
   "cell_type": "code",
   "execution_count": null,
   "id": "04f8f461-3a09-4ffd-b23e-4c0296fad3a1",
   "metadata": {},
   "outputs": [],
   "source": [
    "# # === IMPORTANT: RUN THIS CELL ONLY ONCE TO CREATE THE DICT ====\n",
    "# pklpnn_results_d = {}"
   ]
  },
  {
   "cell_type": "code",
   "execution_count": null,
   "id": "0e81ded8-996d-4d59-9d9e-37f6072592bb",
   "metadata": {},
   "outputs": [],
   "source": [
    "for p in p_values:\n",
    "    pklpnn_results_d[p] = {}\n",
    "    for n in results_d[p].keys():\n",
    "        for nz in results_d[p][n].keys():\n",
    "            pklpnn_results_d[p][nz] = results_d[p][n][nz]['pk-lpnn']"
   ]
  },
  {
   "cell_type": "code",
   "execution_count": null,
   "id": "bf857898-c964-4086-b037-04e7085b9e70",
   "metadata": {},
   "outputs": [],
   "source": [
    "pklpnn_results_d"
   ]
  },
  {
   "cell_type": "code",
   "execution_count": null,
   "id": "0f876d07-2706-4022-81db-93e887f5ee7e",
   "metadata": {},
   "outputs": [],
   "source": [
    "df_tex_l = []\n",
    "\n",
    "for p in p_values:\n",
    "    \n",
    "    dico = pklpnn_results_d[p]\n",
    "            \n",
    "    df = pd.DataFrame.from_dict(dico, orient=\"columns\")\n",
    "    df_tex = df.to_latex(bold_rows=True, column_format=\"l | cccc\", header=[r\"1.25\\%\", r\"2.5\\%\", r\"3.75\\%\", r\"5\\%\"])\n",
    "    df_tex_l.append(df_tex)"
   ]
  },
  {
   "cell_type": "code",
   "execution_count": null,
   "id": "d8f560bc-3b40-4803-bac4-2047af94b0b1",
   "metadata": {},
   "outputs": [],
   "source": [
    "for t in df_tex_l:\n",
    "    print(t)"
   ]
  },
  {
   "cell_type": "markdown",
   "id": "6dd7e002-115c-4f6f-8c61-9f0d926c79b2",
   "metadata": {},
   "source": [
    "## Get progressions"
   ]
  },
  {
   "cell_type": "markdown",
   "id": "800e7b2e-0329-4e0f-8e9c-ae8b58cd3d65",
   "metadata": {
    "jp-MarkdownHeadingCollapsed": true
   },
   "source": [
    "### Percentage Nz"
   ]
  },
  {
   "cell_type": "code",
   "execution_count": null,
   "id": "1da6e461-4783-41ce-914a-2676009fbbd9",
   "metadata": {},
   "outputs": [],
   "source": [
    "# Dictionnaire pour stocker les pourcentages de progression\n",
    "progression_percentages = {}\n",
    "\n",
    "# Boucle sur les valeurs de `p`\n",
    "for p in p_values:\n",
    "    progression_percentages[p] = {}\n",
    "\n",
    "    # Boucle sur les `n`\n",
    "    for n in results_d[p]:\n",
    "        progression_percentages[p][n] = {}\n",
    "\n",
    "        # Boucle sur les `nz`\n",
    "        for nz in results_d[p][n]:\n",
    "            progression_percentages[p][n][nz] = {}\n",
    "\n",
    "            # Récupérer les résultats pour les modèles\n",
    "            for model in models:\n",
    "                # Vérifiez si pk-lpnn, lasso, et k-best existent\n",
    "                if \"pk-lpnn\" in results_d[p][n][nz] and model in results_d[p][n][nz][\"pk-lpnn\"]:\n",
    "                    pk_lpnn_f1, pk_lpnn_b_acc = results_d[p][n][nz][\"pk-lpnn\"][model]\n",
    "\n",
    "                    for mode in [\"lasso\", \"k-best\"]:\n",
    "                        if mode in results_d[p][n][nz] and model in results_d[p][n][nz][mode]:\n",
    "                            mode_f1, mode_b_acc = results_d[p][n][nz][mode][model]\n",
    "\n",
    "                            # Calcul des pourcentages de progression\n",
    "                            f1_progression = ((pk_lpnn_f1 - mode_f1) / mode_f1) * 100\n",
    "                            b_acc_progression = ((pk_lpnn_b_acc - mode_b_acc) / mode_b_acc) * 100\n",
    "\n",
    "                            # Stocker les résultats dans le dictionnaire\n",
    "                            progression_percentages[p][n][nz].setdefault(model, {})\n",
    "                            progression_percentages[p][n][nz][model][mode] = {\n",
    "                                \"f1_progression\": round(f1_progression, 2),\n",
    "                                \"b_acc_progression\": round(b_acc_progression, 2),\n",
    "                            }\n",
    "\n",
    "# Résumé dans un tableau DataFrame\n",
    "summary_tables = {}\n",
    "\n",
    "for p in progression_percentages:\n",
    "    for n in progression_percentages[p]:\n",
    "        for nz in progression_percentages[p][n]:\n",
    "            table_data = []\n",
    "            for model in progression_percentages[p][n][nz]:\n",
    "                for mode, metrics in progression_percentages[p][n][nz][model].items():\n",
    "                    table_data.append([model, mode, metrics[\"f1_progression\"], metrics[\"b_acc_progression\"]])\n",
    "\n",
    "            # Créer un DataFrame pour chaque combinaison de p, n, et nz\n",
    "            summary_tables[(p, n, nz)] = pd.DataFrame(\n",
    "                table_data,\n",
    "                columns=[\"Model\", \"Mode\", \"F1 Progression (%)\", \"Balanced Accuracy Progression (%)\"],\n",
    "            )\n",
    "\n",
    "# Affichage des tables\n",
    "for key, table in summary_tables.items():\n",
    "    p, n, nz = key\n",
    "    print(f\"Table for p = {p}, n = {n}, nz = {nz}:\\n\")\n",
    "    display(table)\n",
    "    print(\"\\n\")\n"
   ]
  },
  {
   "cell_type": "markdown",
   "id": "dbbd17e2-c3f5-4c6c-a8d2-dd4831ffd957",
   "metadata": {
    "jp-MarkdownHeadingCollapsed": true
   },
   "source": [
    "### Percentage Global"
   ]
  },
  {
   "cell_type": "code",
   "execution_count": null,
   "id": "11f2f5e0-8125-4555-9e19-169e67be40d8",
   "metadata": {},
   "outputs": [],
   "source": [
    "# Initialisation des listes pour les résultats\n",
    "lasso_data = []\n",
    "kbest_data = []\n",
    "\n",
    "# Collecte des données pour k-best et lasso\n",
    "for p in progression_percentages:\n",
    "    for n in progression_percentages[p]:\n",
    "        for nz, metrics in progression_percentages[p][n].items():\n",
    "            # Calculer le pourcentage de Nz\n",
    "            nz_percentage = round(((nz / p) * 100),4)\n",
    "            \n",
    "            # Collecte des données pour chaque méthode\n",
    "            for model in models:\n",
    "                # Pour lasso\n",
    "                if \"lasso\" in metrics[model]:\n",
    "                    lasso_data.append({\n",
    "                        \"Nz Percentage\": nz_percentage,\n",
    "                        \"Model\": model,\n",
    "                        \"F1 Progression\": metrics[model][\"lasso\"].get(\"f1_progression\", 0),\n",
    "                        \"Balanced Accuracy Progression\": metrics[model][\"lasso\"].get(\"b_acc_progression\", 0)\n",
    "                    })\n",
    "                else:\n",
    "                    lasso_data.append({\n",
    "                        \"Nz Percentage\": nz_percentage,\n",
    "                        \"Model\": model,\n",
    "                        \"F1 Progression\": 0,\n",
    "                        \"Balanced Accuracy Progression\": 0\n",
    "                    })\n",
    "                \n",
    "                # Pour k-best\n",
    "                if \"k-best\" in metrics[model]:\n",
    "                    kbest_data.append({\n",
    "                        \"Nz Percentage\": nz_percentage,\n",
    "                        \"Model\": model,\n",
    "                        \"F1 Progression\": metrics[model][\"k-best\"].get(\"f1_progression\", 0),\n",
    "                        \"Balanced Accuracy Progression\": metrics[model][\"k-best\"].get(\"b_acc_progression\", 0)\n",
    "                    })\n",
    "                else:\n",
    "                    kbest_data.append({\n",
    "                        \"Nz Percentage\": nz_percentage,\n",
    "                        \"Model\": model,\n",
    "                        \"F1 Progression\": 0,\n",
    "                        \"Balanced Accuracy Progression\": 0\n",
    "                    })\n",
    "\n",
    "# Création des DataFrames pour lasso et k-best\n",
    "lasso_df = pd.DataFrame(lasso_data)\n",
    "kbest_df = pd.DataFrame(kbest_data)\n",
    "\n",
    "# Affichage des DataFrames pour chaque méthode\n",
    "print(\"Lasso Results DataFrame:\")\n",
    "display(lasso_df)\n",
    "\n",
    "print(\"K-Best Results DataFrame:\")\n",
    "display(kbest_df)\n"
   ]
  },
  {
   "cell_type": "markdown",
   "id": "ce6a2604-6476-4769-9d5f-b14b4d90367f",
   "metadata": {
    "jp-MarkdownHeadingCollapsed": true
   },
   "source": [
    "### Save percentages"
   ]
  },
  {
   "cell_type": "code",
   "execution_count": null,
   "id": "ead174c1-63b2-4b8c-9f02-dea8d62284d3",
   "metadata": {},
   "outputs": [],
   "source": [
    "def save_dataframe_as_image(df, file_name):\n",
    "    fig, ax = plt.subplots(figsize=(10, len(df) * 0.5 + 1))  # Ajuster la taille en fonction des données\n",
    "    ax.axis(\"tight\")\n",
    "    ax.axis(\"off\")\n",
    "    table = ax.table(\n",
    "        cellText=df.values,\n",
    "        colLabels=df.columns,\n",
    "        cellLoc=\"center\",\n",
    "        loc=\"center\"\n",
    "    )\n",
    "    table.auto_set_font_size(False)\n",
    "    table.set_fontsize(10)\n",
    "    table.auto_set_column_width(col=list(range(len(df.columns))))\n",
    "    \n",
    "    plt.savefig(file_name, bbox_inches=\"tight\", dpi=300)\n",
    "    plt.close()\n",
    "\n",
    "# Sauvegarde des DataFrames sous forme d'images\n",
    "save_dataframe_as_image(lasso_df, f\"lasso_results_{p}.png\")\n",
    "save_dataframe_as_image(kbest_df, f\"kbest_results_{p}.png\")\n",
    "\n",
    "print(\"Images sauvegardées sous 'lasso_results.png' et 'kbest_results.png'.\")"
   ]
  },
  {
   "cell_type": "markdown",
   "id": "0120d623-a739-4481-8ae4-07f7314ad778",
   "metadata": {
    "jp-MarkdownHeadingCollapsed": true
   },
   "source": [
    "## Progession plots"
   ]
  },
  {
   "cell_type": "code",
   "execution_count": null,
   "id": "bde4bc8b-656e-4d4c-b693-25458e79bc20",
   "metadata": {},
   "outputs": [],
   "source": [
    "# Initialisation des données pour les courbes\n",
    "kbest_f1_progression = {model: [] for model in models}\n",
    "lasso_f1_progression = {model: [] for model in models}\n",
    "kbest_b_acc_progression = {model: [] for model in models}\n",
    "lasso_b_acc_progression = {model: [] for model in models}\n",
    "nz_percentages = []  # Stockage des pourcentages de Nz\n",
    "\n",
    "# Extraction des données\n",
    "for p in progression_percentages:\n",
    "    for n in progression_percentages[p]:\n",
    "        for nz, metrics in progression_percentages[p][n].items():\n",
    "            # Calculer le pourcentage de Nz\n",
    "            nz_percentage = (nz / p) * 100\n",
    "            if nz_percentage not in nz_percentages:\n",
    "                nz_percentages.append(nz_percentage)\n",
    "\n",
    "            # Progression pour chaque modèle dans les modes k-best et lasso\n",
    "            for model in models:\n",
    "                if model in metrics:\n",
    "                    if \"k-best\" in metrics[model]:\n",
    "                        kbest_f1_progression[model].append(metrics[model][\"k-best\"].get(\"f1_progression\", 0))\n",
    "                        kbest_b_acc_progression[model].append(metrics[model][\"k-best\"].get(\"b_acc_progression\", 0))\n",
    "                    else:\n",
    "                        kbest_f1_progression[model].append(0)\n",
    "                        kbest_b_acc_progression[model].append(0)\n",
    "                    \n",
    "                    if \"lasso\" in metrics[model]:\n",
    "                        lasso_f1_progression[model].append(metrics[model][\"lasso\"].get(\"f1_progression\", 0))\n",
    "                        lasso_b_acc_progression[model].append(metrics[model][\"lasso\"].get(\"b_acc_progression\", 0))\n",
    "                    else:\n",
    "                        lasso_f1_progression[model].append(0)\n",
    "                        lasso_b_acc_progression[model].append(0)"
   ]
  },
  {
   "cell_type": "code",
   "execution_count": null,
   "id": "ef1c2449-9c72-40f0-9bed-f239f2ade48b",
   "metadata": {},
   "outputs": [],
   "source": [
    "def model_name(model):\n",
    "    if model == \"nb-gaussian\":\n",
    "        return \"NBC\"\n",
    "    else:\n",
    "        return model.upper()"
   ]
  },
  {
   "cell_type": "code",
   "execution_count": null,
   "id": "1827d6eb-c139-461e-aa41-e867c8535265",
   "metadata": {},
   "outputs": [],
   "source": [
    "save_folder = \"../results/Synthetic/plots\""
   ]
  },
  {
   "cell_type": "code",
   "execution_count": null,
   "id": "5ff788e3-3eb0-4706-bacb-ccda317be5e0",
   "metadata": {},
   "outputs": [],
   "source": [
    "# Fonction pour tracer les courbes\n",
    "def plot_progressions(nz_percentages, progression_data, p, metrics, save=False):\n",
    "\n",
    "    progression_data_lasso = progression_data[0]\n",
    "    progression_data_kbest = progression_data[1]\n",
    "    \n",
    "    plt.figure(figsize=(7, 4))\n",
    "    \n",
    "    for model, progression in progression_data_lasso.items():\n",
    "        plt.plot(nz_percentages, progression, marker='o', \n",
    "                 label=model_name(model),\n",
    "                 linewidth=2,\n",
    "                 linestyle=\"-\", \n",
    "                )\n",
    "        \n",
    "    plt.gca().set_prop_cycle(None)\n",
    "    \n",
    "    for model, progression in progression_data_kbest.items():\n",
    "        plt.plot(nz_percentages, progression, marker='o', \n",
    "                 #label=model_name(model),\n",
    "                 linewidth=2,\n",
    "                 linestyle=\"--\",\n",
    "                )\n",
    "\n",
    "    # plt.axhline(y=0, color='grey', linewidth=2, linestyle='-')\n",
    "    y_min = plt.ylim()[0] if plt.ylim()[0] < 0 else 0\n",
    "    plt.axhspan(y_min, 0, facecolor=\"grey\", alpha=0.3)\n",
    "    \n",
    "    plt.title(\"LPNN-FS vs LASSO (solid) and LPNN-FS vs k-best (dashed)\")\n",
    "    plt.xlabel(\"Percentage of $N_z$ (%)\", size=12)\n",
    "    plt.ylabel(f\"{metrics} Progression (%)\", size=12)\n",
    "    plt.grid(False)\n",
    "    plt.legend(loc=\"upper right\")\n",
    "    plt.tight_layout()\n",
    "    if save==True:\n",
    "        plt.savefig(os.path.join(save_folder, f\"progression_{metrics}_p={p}.pdf\"))\n",
    "    plt.show()"
   ]
  },
  {
   "cell_type": "code",
   "execution_count": null,
   "id": "e449a82d-5e96-4452-a743-d385dbadac70",
   "metadata": {},
   "outputs": [],
   "source": [
    "# Graphiques pour k-best\n",
    "plot_progressions(\n",
    "    nz_percentages,\n",
    "    [lasso_f1_progression, kbest_f1_progression],\n",
    "    p=p_values[0], metrics=\"F1\",\n",
    "    save=True\n",
    ")"
   ]
  },
  {
   "cell_type": "code",
   "execution_count": null,
   "id": "c9b0303e-bf91-4f24-b5b0-4caf7393f6ec",
   "metadata": {},
   "outputs": [],
   "source": []
  }
 ],
 "metadata": {
  "kernelspec": {
   "display_name": "Python 3 (ipykernel)",
   "language": "python",
   "name": "python3"
  },
  "language_info": {
   "codemirror_mode": {
    "name": "ipython",
    "version": 3
   },
   "file_extension": ".py",
   "mimetype": "text/x-python",
   "name": "python",
   "nbconvert_exporter": "python",
   "pygments_lexer": "ipython3",
   "version": "3.13.1"
  }
 },
 "nbformat": 4,
 "nbformat_minor": 5
}
