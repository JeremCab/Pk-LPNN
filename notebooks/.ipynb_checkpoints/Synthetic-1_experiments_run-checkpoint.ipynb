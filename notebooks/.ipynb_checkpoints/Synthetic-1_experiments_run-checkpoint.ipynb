{
 "cells": [
  {
   "cell_type": "markdown",
   "id": "ab8eeaa2",
   "metadata": {},
   "source": [
    "# Run experiments `application_Synthetic.ipynb`"
   ]
  },
  {
   "cell_type": "markdown",
   "id": "cf94da85-ecff-4ebc-9597-c71754102ced",
   "metadata": {
    "jp-MarkdownHeadingCollapsed": true
   },
   "source": [
    "## Librairies"
   ]
  },
  {
   "cell_type": "code",
   "execution_count": null,
   "id": "e8c78a2e",
   "metadata": {},
   "outputs": [],
   "source": [
    "from tqdm.notebook import tqdm\n",
    "import papermill as pm\n",
    "from itertools import product"
   ]
  },
  {
   "cell_type": "markdown",
   "id": "1555d4d9-1351-4f48-ac69-3a5b7c0e9502",
   "metadata": {
    "jp-MarkdownHeadingCollapsed": true
   },
   "source": [
    "## Run experiments"
   ]
  },
  {
   "cell_type": "code",
   "execution_count": null,
   "id": "048236b0",
   "metadata": {},
   "outputs": [],
   "source": [
    "input_notebook = \"application_Synthetic_1.ipynb\"\n",
    "output_directory = \"results/\""
   ]
  },
  {
   "cell_type": "code",
   "execution_count": null,
   "id": "c6f4901d",
   "metadata": {},
   "outputs": [],
   "source": [
    "p_values = [2000, 4000, 6000, 8000, 10000]\n",
    "n__values =  [50, 40, 30] # not the real n's (which are computed in the notebook)s!\n",
    "percent_values = [1.25, 2.5, 5.0, 10.0]"
   ]
  },
  {
   "cell_type": "code",
   "execution_count": null,
   "id": "00da24fb",
   "metadata": {},
   "outputs": [],
   "source": [
    "parameter_combinations = list(product(p_values, n__values, percent_values))\n",
    "# parameter_combinations"
   ]
  },
  {
   "cell_type": "code",
   "execution_count": null,
   "id": "6148f48c",
   "metadata": {},
   "outputs": [],
   "source": [
    "print(f\"Total number of experiments: {len(parameter_combinations)}\")"
   ]
  },
  {
   "cell_type": "code",
   "execution_count": null,
   "id": "09e22caf",
   "metadata": {},
   "outputs": [],
   "source": [
    "for i, (p, n_, percent) in tqdm(enumerate(parameter_combinations)):\n",
    "    \n",
    "    params = {\"p\": p, \"n_\": n_, \"percent\": percent}\n",
    "    \n",
    "    output_notebook = f\"{output_directory}/experiment_run_{p}_{n_}_{percent}.ipynb\"\n",
    "    \n",
    "    print(f\"\\nRunning notebook with parameters: {params}.\")\n",
    "    print(\"\"\"Remember that the \"n_\" is not the \"n\"...\"\"\")\n",
    "    \n",
    "    pm.execute_notebook(\n",
    "        input_path=input_notebook,\n",
    "        output_path=output_notebook,\n",
    "        parameters=params\n",
    "    )\n",
    "    \n",
    "    print(f\"Finished execution for params {params}.\")\n",
    "    print(f\"Results saved to {output_notebook}.\")"
   ]
  },
  {
   "cell_type": "code",
   "execution_count": null,
   "id": "92983aff",
   "metadata": {},
   "outputs": [],
   "source": []
  }
 ],
 "metadata": {
  "kernelspec": {
   "display_name": "Python (.venv)",
   "language": "python",
   "name": ".venv"
  },
  "language_info": {
   "codemirror_mode": {
    "name": "ipython",
    "version": 3
   },
   "file_extension": ".py",
   "mimetype": "text/x-python",
   "name": "python",
   "nbconvert_exporter": "python",
   "pygments_lexer": "ipython3",
   "version": "3.13.1"
  }
 },
 "nbformat": 4,
 "nbformat_minor": 5
}
